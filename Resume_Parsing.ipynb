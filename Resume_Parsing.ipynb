{
  "nbformat": 4,
  "nbformat_minor": 0,
  "metadata": {
    "colab": {
      "provenance": []
    },
    "kernelspec": {
      "name": "python3",
      "display_name": "Python 3"
    },
    "language_info": {
      "name": "python"
    }
  },
  "cells": [
    {
      "cell_type": "code",
      "execution_count": 28,
      "metadata": {
        "id": "1LaBV9BJJOIu"
      },
      "outputs": [],
      "source": [
        "import spacy\n",
        "import pickle\n",
        "import random\n",
        "from spacy.training.example import Example"
      ]
    },
    {
      "cell_type": "code",
      "source": [
        "train_data = pickle.load(open('train_data.pkl', 'rb'))\n",
        "train_data[0]"
      ],
      "metadata": {
        "colab": {
          "base_uri": "https://localhost:8080/"
        },
        "id": "QgOoX8hGJquI",
        "outputId": "e372c8de-bd92-44cb-933f-28e538697a5b"
      },
      "execution_count": 29,
      "outputs": [
        {
          "output_type": "execute_result",
          "data": {
            "text/plain": [
              "('Govardhana K Senior Software Engineer  Bengaluru, Karnataka, Karnataka - Email me on Indeed: indeed.com/r/Govardhana-K/ b2de315d95905b68  Total IT experience 5 Years 6 Months Cloud Lending Solutions INC 4 Month • Salesforce Developer Oracle 5 Years 2 Month • Core Java Developer Languages Core Java, Go Lang Oracle PL-SQL programming, Sales Force Developer with APEX.  Designations & Promotions  Willing to relocate: Anywhere  WORK EXPERIENCE  Senior Software Engineer  Cloud Lending Solutions -  Bangalore, Karnataka -  January 2018 to Present  Present  Senior Consultant  Oracle -  Bangalore, Karnataka -  November 2016 to December 2017  Staff Consultant  Oracle -  Bangalore, Karnataka -  January 2014 to October 2016  Associate Consultant  Oracle -  Bangalore, Karnataka -  November 2012 to December 2013  EDUCATION  B.E in Computer Science Engineering  Adithya Institute of Technology -  Tamil Nadu  September 2008 to June 2012  https://www.indeed.com/r/Govardhana-K/b2de315d95905b68?isid=rex-download&ikw=download-top&co=IN https://www.indeed.com/r/Govardhana-K/b2de315d95905b68?isid=rex-download&ikw=download-top&co=IN   SKILLS  APEX. (Less than 1 year), Data Structures (3 years), FLEXCUBE (5 years), Oracle (5 years), Algorithms (3 years)  LINKS  https://www.linkedin.com/in/govardhana-k-61024944/  ADDITIONAL INFORMATION  Technical Proficiency:  Languages: Core Java, Go Lang, Data Structures & Algorithms, Oracle PL-SQL programming, Sales Force with APEX. Tools: RADTool, Jdeveloper, NetBeans, Eclipse, SQL developer, PL/SQL Developer, WinSCP, Putty Web Technologies: JavaScript, XML, HTML, Webservice  Operating Systems: Linux, Windows Version control system SVN & Git-Hub Databases: Oracle Middleware: Web logic, OC4J Product FLEXCUBE: Oracle FLEXCUBE Versions 10.x, 11.x and 12.x  https://www.linkedin.com/in/govardhana-k-61024944/',\n",
              " {'entities': [(1749, 1755, 'Companies worked at'),\n",
              "   (1696, 1702, 'Companies worked at'),\n",
              "   (1417, 1423, 'Companies worked at'),\n",
              "   (1356, 1793, 'Skills'),\n",
              "   (1209, 1215, 'Companies worked at'),\n",
              "   (1136, 1248, 'Skills'),\n",
              "   (928, 932, 'Graduation Year'),\n",
              "   (858, 889, 'College Name'),\n",
              "   (821, 856, 'Degree'),\n",
              "   (787, 791, 'Graduation Year'),\n",
              "   (744, 750, 'Companies worked at'),\n",
              "   (722, 742, 'Designation'),\n",
              "   (658, 664, 'Companies worked at'),\n",
              "   (640, 656, 'Designation'),\n",
              "   (574, 580, 'Companies worked at'),\n",
              "   (555, 573, 'Designation'),\n",
              "   (470, 493, 'Companies worked at'),\n",
              "   (444, 469, 'Designation'),\n",
              "   (308, 314, 'Companies worked at'),\n",
              "   (234, 240, 'Companies worked at'),\n",
              "   (175, 198, 'Companies worked at'),\n",
              "   (93, 137, 'Email Address'),\n",
              "   (39, 48, 'Location'),\n",
              "   (13, 38, 'Designation'),\n",
              "   (0, 12, 'Name')]})"
            ]
          },
          "metadata": {},
          "execution_count": 29
        }
      ]
    },
    {
      "cell_type": "code",
      "source": [
        "nlp = spacy.blank('en')\n",
        "\n",
        "def train_model(train_data):\n",
        "    if 'ner' not in nlp.pipe_names:\n",
        "        nlp.add_pipe('ner', last = True)\n",
        "    \n",
        "    for _, annotation in train_data:\n",
        "        for ent in annotation['entities']:\n",
        "            ner.add_label(ent[2])\n",
        "            \n",
        "    \n",
        "    other_pipes = [pipe for pipe in nlp.pipe_names if pipe != 'ner']\n",
        "    with nlp.disable_pipes(*other_pipes):  # only train NER\n",
        "        optimizer = nlp.begin_training()\n",
        "        for itn in range(10):\n",
        "            print(\"Statring iteration \" + str(itn))\n",
        "            random.shuffle(train_data)\n",
        "            losses = {}\n",
        "            index = 0\n",
        "            for text, annotations in train_data:\n",
        "                try:\n",
        "                    doc = nlp.make_doc(text)\n",
        "                    example = Example.from_dict(doc, annotations)\n",
        "                    nlp.update(\n",
        "                        [example],\n",
        "                        drop=0.2,  # dropout - make it harder to memorise data\n",
        "                        sgd=optimizer,  # callable to update weights\n",
        "                        losses=losses)\n",
        "                    print(losses)\n",
        "                except Exception as e:\n",
        "                    pass\n",
        "                \n",
        "            \n",
        "    "
      ],
      "metadata": {
        "id": "BlMLX3q0Jttp"
      },
      "execution_count": 30,
      "outputs": []
    },
    {
      "cell_type": "code",
      "source": [
        "train_model(train_data)"
      ],
      "metadata": {
        "colab": {
          "base_uri": "https://localhost:8080/"
        },
        "id": "i-Vo1G_2J0vl",
        "outputId": "dffa63e0-e43f-44cc-ee41-e3358ee36073"
      },
      "execution_count": 31,
      "outputs": [
        {
          "output_type": "stream",
          "name": "stdout",
          "text": [
            "Statring iteration 0\n",
            "{'ner': 930.7305755615234}\n",
            "{'ner': 1217.0297729969025}\n",
            "{'ner': 1255.5864586681128}\n"
          ]
        },
        {
          "output_type": "stream",
          "name": "stderr",
          "text": [
            "/usr/local/lib/python3.9/dist-packages/spacy/training/iob_utils.py:149: UserWarning: [W030] Some entities could not be aligned in the text \"Madhava Konjeti HR Executive  Bengaluru, Karnataka...\" with entities \"[(1818, 1893, 'Skills'), (1760, 1766, 'Graduation ...\". Use `spacy.training.offsets_to_biluo_tags(nlp.make_doc(text), entities)` to check the alignment. Misaligned entities ('-') will be ignored during training.\n",
            "  warnings.warn(\n",
            "/usr/local/lib/python3.9/dist-packages/spacy/training/iob_utils.py:149: UserWarning: [W030] Some entities could not be aligned in the text \"Sameer Kujur Orrisha - Email me on Indeed: indeed....\" with entities \"[(210, 251, 'Skills'), (189, 200, 'College Name'),...\". Use `spacy.training.offsets_to_biluo_tags(nlp.make_doc(text), entities)` to check the alignment. Misaligned entities ('-') will be ignored during training.\n",
            "  warnings.warn(\n",
            "/usr/local/lib/python3.9/dist-packages/spacy/training/iob_utils.py:149: UserWarning: [W030] Some entities could not be aligned in the text \"Sridevi H Bangalore, Karnataka - Email me on Indee...\" with entities \"[(2473, 2498, 'Designation'), (2030, 2037, 'Compan...\". Use `spacy.training.offsets_to_biluo_tags(nlp.make_doc(text), entities)` to check the alignment. Misaligned entities ('-') will be ignored during training.\n",
            "  warnings.warn(\n"
          ]
        },
        {
          "output_type": "stream",
          "name": "stdout",
          "text": [
            "{'ner': 3832.655481800437}\n",
            "{'ner': 4301.716488942504}\n"
          ]
        },
        {
          "output_type": "stream",
          "name": "stderr",
          "text": [
            "/usr/local/lib/python3.9/dist-packages/spacy/training/iob_utils.py:149: UserWarning: [W030] Some entities could not be aligned in the text \"Jyotirbindu Patnaik Associate consultant@SAP labs ...\" with entities \"[(3052, 3067, 'Skills'), (2993, 3016, 'College Nam...\". Use `spacy.training.offsets_to_biluo_tags(nlp.make_doc(text), entities)` to check the alignment. Misaligned entities ('-') will be ignored during training.\n",
            "  warnings.warn(\n",
            "/usr/local/lib/python3.9/dist-packages/spacy/training/iob_utils.py:149: UserWarning: [W030] Some entities could not be aligned in the text \"Partho Sarathi Mitra Kolkata, West Bengal - Email ...\" with entities \"[(230, 262, 'College Name'), (223, 229, 'Degree'),...\". Use `spacy.training.offsets_to_biluo_tags(nlp.make_doc(text), entities)` to check the alignment. Misaligned entities ('-') will be ignored during training.\n",
            "  warnings.warn(\n",
            "/usr/local/lib/python3.9/dist-packages/spacy/training/iob_utils.py:149: UserWarning: [W030] Some entities could not be aligned in the text \"Jaspreet Kaur Oceanic Consultants as a HR Executiv...\" with entities \"[(5670, 5781, 'Skills'), (462, 481, 'Designation')...\". Use `spacy.training.offsets_to_biluo_tags(nlp.make_doc(text), entities)` to check the alignment. Misaligned entities ('-') will be ignored during training.\n",
            "  warnings.warn(\n"
          ]
        },
        {
          "output_type": "stream",
          "name": "stdout",
          "text": [
            "{'ner': 4341.41465649195}\n",
            "{'ner': 5253.805503221229}\n"
          ]
        },
        {
          "output_type": "stream",
          "name": "stderr",
          "text": [
            "/usr/local/lib/python3.9/dist-packages/spacy/training/iob_utils.py:149: UserWarning: [W030] Some entities could not be aligned in the text \"Raktim Podder 6+ Exp in banking operations and cre...\" with entities \"[(8800, 8928, 'Skills'), (8760, 8789, 'College Nam...\". Use `spacy.training.offsets_to_biluo_tags(nlp.make_doc(text), entities)` to check the alignment. Misaligned entities ('-') will be ignored during training.\n",
            "  warnings.warn(\n",
            "/usr/local/lib/python3.9/dist-packages/spacy/training/iob_utils.py:149: UserWarning: [W030] Some entities could not be aligned in the text \"Puran Mal Jaipur, Rajasthan - Email me on Indeed: ...\" with entities \"[(193, 511, 'Skills'), (174, 183, 'Degree'), (126,...\". Use `spacy.training.offsets_to_biluo_tags(nlp.make_doc(text), entities)` to check the alignment. Misaligned entities ('-') will be ignored during training.\n",
            "  warnings.warn(\n"
          ]
        },
        {
          "output_type": "stream",
          "name": "stdout",
          "text": [
            "{'ner': 6496.521743150428}\n",
            "{'ner': 7267.301605554298}\n"
          ]
        },
        {
          "output_type": "stream",
          "name": "stderr",
          "text": [
            "/usr/local/lib/python3.9/dist-packages/spacy/training/iob_utils.py:149: UserWarning: [W030] Some entities could not be aligned in the text \"Ramakrishna Rao DevOps Consultant - Tech Mahindra ...\" with entities \"[(5995, 6012, 'Companies worked at'), (5913, 5930,...\". Use `spacy.training.offsets_to_biluo_tags(nlp.make_doc(text), entities)` to check the alignment. Misaligned entities ('-') will be ignored during training.\n",
            "  warnings.warn(\n",
            "/usr/local/lib/python3.9/dist-packages/spacy/training/iob_utils.py:149: UserWarning: [W030] Some entities could not be aligned in the text \"Manisha Bharti Software Automation Engineer  Pune,...\" with entities \"[(2833, 4400, 'Skills'), (2819, 2823, 'Graduation ...\". Use `spacy.training.offsets_to_biluo_tags(nlp.make_doc(text), entities)` to check the alignment. Misaligned entities ('-') will be ignored during training.\n",
            "  warnings.warn(\n"
          ]
        },
        {
          "output_type": "stream",
          "name": "stdout",
          "text": [
            "{'ner': 8008.275307985023}\n",
            "{'ner': 8219.661764713004}\n",
            "{'ner': 8236.553408301668}\n"
          ]
        },
        {
          "output_type": "stream",
          "name": "stderr",
          "text": [
            "/usr/local/lib/python3.9/dist-packages/spacy/training/iob_utils.py:149: UserWarning: [W030] Some entities could not be aligned in the text \"Karthik Gururaj Technical Lead at Infosys Ltd. - P...\" with entities \"[(2814, 2839, 'Degree'), (2773, 2813, 'Degree'), (...\". Use `spacy.training.offsets_to_biluo_tags(nlp.make_doc(text), entities)` to check the alignment. Misaligned entities ('-') will be ignored during training.\n",
            "  warnings.warn(\n",
            "/usr/local/lib/python3.9/dist-packages/spacy/training/iob_utils.py:149: UserWarning: [W030] Some entities could not be aligned in the text \"Prabhu Prasad Mohapatra Need job urgently  Bhubane...\" with entities \"[(310, 332, 'Skills'), (265, 292, 'College Name'),...\". Use `spacy.training.offsets_to_biluo_tags(nlp.make_doc(text), entities)` to check the alignment. Misaligned entities ('-') will be ignored during training.\n",
            "  warnings.warn(\n",
            "/usr/local/lib/python3.9/dist-packages/spacy/training/iob_utils.py:149: UserWarning: [W030] Some entities could not be aligned in the text \"Nikhileshkumar Ikhar Product development engineer ...\" with entities \"[(3036, 3078, 'Skills'), (2922, 3018, 'Skills'), (...\". Use `spacy.training.offsets_to_biluo_tags(nlp.make_doc(text), entities)` to check the alignment. Misaligned entities ('-') will be ignored during training.\n",
            "  warnings.warn(\n"
          ]
        },
        {
          "output_type": "stream",
          "name": "stdout",
          "text": [
            "{'ner': 8376.753546194406}\n",
            "{'ner': 8464.58165569161}\n"
          ]
        },
        {
          "output_type": "stream",
          "name": "stderr",
          "text": [
            "/usr/local/lib/python3.9/dist-packages/spacy/training/iob_utils.py:149: UserWarning: [W030] Some entities could not be aligned in the text \"Anurag Asthana Pune, Maharashtra - Email me on Ind...\" with entities \"[(7675, 7692, 'Years of Experience'), (7133, 7595,...\". Use `spacy.training.offsets_to_biluo_tags(nlp.make_doc(text), entities)` to check the alignment. Misaligned entities ('-') will be ignored during training.\n",
            "  warnings.warn(\n",
            "/usr/local/lib/python3.9/dist-packages/spacy/training/iob_utils.py:149: UserWarning: [W030] Some entities could not be aligned in the text \"Ramesh chokkala Telangana - Email me on Indeed: in...\" with entities \"[(250, 278, 'College Name'), (243, 248, 'Degree'),...\". Use `spacy.training.offsets_to_biluo_tags(nlp.make_doc(text), entities)` to check the alignment. Misaligned entities ('-') will be ignored during training.\n",
            "  warnings.warn(\n"
          ]
        },
        {
          "output_type": "stream",
          "name": "stdout",
          "text": [
            "{'ner': 8478.460169559447}\n",
            "{'ner': 8504.156320587306}\n"
          ]
        },
        {
          "output_type": "stream",
          "name": "stderr",
          "text": [
            "/usr/local/lib/python3.9/dist-packages/spacy/training/iob_utils.py:149: UserWarning: [W030] Some entities could not be aligned in the text \"Navjyot Singh Rathore Ulhasnagar, Maharashtra - Em...\" with entities \"[(605, 753, 'Skills'), (403, 407, 'Graduation Year...\". Use `spacy.training.offsets_to_biluo_tags(nlp.make_doc(text), entities)` to check the alignment. Misaligned entities ('-') will be ignored during training.\n",
            "  warnings.warn(\n",
            "/usr/local/lib/python3.9/dist-packages/spacy/training/iob_utils.py:149: UserWarning: [W030] Some entities could not be aligned in the text \"Deepika S Test Engineer - Infosys Ltd  - Email me ...\" with entities \"[(3170, 3174, 'Graduation Year'), (3120, 3143, 'Co...\". Use `spacy.training.offsets_to_biluo_tags(nlp.make_doc(text), entities)` to check the alignment. Misaligned entities ('-') will be ignored during training.\n",
            "  warnings.warn(\n",
            "/usr/local/lib/python3.9/dist-packages/spacy/training/iob_utils.py:149: UserWarning: [W030] Some entities could not be aligned in the text \"Nidhi Pandit Test Engineer - Infosys Limited  - Em...\" with entities \"[(3132, 3611, 'Skills'), (3005, 3083, 'Skills'), (...\". Use `spacy.training.offsets_to_biluo_tags(nlp.make_doc(text), entities)` to check the alignment. Misaligned entities ('-') will be ignored during training.\n",
            "  warnings.warn(\n",
            "/usr/local/lib/python3.9/dist-packages/spacy/training/iob_utils.py:149: UserWarning: [W030] Some entities could not be aligned in the text \"Chhaya Prabhale Kharadi, Pune, 411014, IN - Email ...\" with entities \"[(1943, 2050, 'Skills'), (478, 488, 'Designation')...\". Use `spacy.training.offsets_to_biluo_tags(nlp.make_doc(text), entities)` to check the alignment. Misaligned entities ('-') will be ignored during training.\n",
            "  warnings.warn(\n"
          ]
        },
        {
          "output_type": "stream",
          "name": "stdout",
          "text": [
            "{'ner': 8510.16477927184}\n",
            "{'ner': 8697.642341222523}\n",
            "{'ner': 8926.785504903553}\n"
          ]
        },
        {
          "output_type": "stream",
          "name": "stderr",
          "text": [
            "/usr/local/lib/python3.9/dist-packages/spacy/training/iob_utils.py:149: UserWarning: [W030] Some entities could not be aligned in the text \"Santosh Ganta Senior Systems Engineer - mainframe ...\" with entities \"[(957, 1203, 'Skills'), (662, 775, 'Skills'), (648...\". Use `spacy.training.offsets_to_biluo_tags(nlp.make_doc(text), entities)` to check the alignment. Misaligned entities ('-') will be ignored during training.\n",
            "  warnings.warn(\n",
            "/usr/local/lib/python3.9/dist-packages/spacy/training/iob_utils.py:149: UserWarning: [W030] Some entities could not be aligned in the text \"Pranay Sathu Software Test Automation Engineer  Hy...\" with entities \"[(2051, 2567, 'Skills'), (1914, 1943, 'College Nam...\". Use `spacy.training.offsets_to_biluo_tags(nlp.make_doc(text), entities)` to check the alignment. Misaligned entities ('-') will be ignored during training.\n",
            "  warnings.warn(\n",
            "/usr/local/lib/python3.9/dist-packages/spacy/training/iob_utils.py:149: UserWarning: [W030] Some entities could not be aligned in the text \"Shubham Mittal System Engineer - Infosys Limited  ...\" with entities \"[(2197, 2231, 'Skills'), (2184, 2188, 'Graduation ...\". Use `spacy.training.offsets_to_biluo_tags(nlp.make_doc(text), entities)` to check the alignment. Misaligned entities ('-') will be ignored during training.\n",
            "  warnings.warn(\n",
            "/usr/local/lib/python3.9/dist-packages/spacy/training/iob_utils.py:149: UserWarning: [W030] Some entities could not be aligned in the text \"Ravi Shivgond Bidar, Karnataka - Email me on Indee...\" with entities \"[(1341, 1384, 'Email Address'), (1131, 1136, 'Loca...\". Use `spacy.training.offsets_to_biluo_tags(nlp.make_doc(text), entities)` to check the alignment. Misaligned entities ('-') will be ignored during training.\n",
            "  warnings.warn(\n"
          ]
        },
        {
          "output_type": "stream",
          "name": "stdout",
          "text": [
            "{'ner': 9167.366802897213}\n",
            "{'ner': 9632.454933490513}\n"
          ]
        },
        {
          "output_type": "stream",
          "name": "stderr",
          "text": [
            "/usr/local/lib/python3.9/dist-packages/spacy/training/iob_utils.py:149: UserWarning: [W030] Some entities could not be aligned in the text \"Moumita Mitra - Email me on Indeed: indeed.com/r/M...\" with entities \"[(1963, 2094, 'Skills'), (1818, 1926, 'Skills'), (...\". Use `spacy.training.offsets_to_biluo_tags(nlp.make_doc(text), entities)` to check the alignment. Misaligned entities ('-') will be ignored during training.\n",
            "  warnings.warn(\n",
            "/usr/local/lib/python3.9/dist-packages/spacy/training/iob_utils.py:149: UserWarning: [W030] Some entities could not be aligned in the text \"Sudaya Puranik Principal Engineer Technical Staff ...\" with entities \"[(2656, 2689, 'Skills'), (2586, 2626, 'College Nam...\". Use `spacy.training.offsets_to_biluo_tags(nlp.make_doc(text), entities)` to check the alignment. Misaligned entities ('-') will be ignored during training.\n",
            "  warnings.warn(\n",
            "/usr/local/lib/python3.9/dist-packages/spacy/training/iob_utils.py:149: UserWarning: [W030] Some entities could not be aligned in the text \"amarjyot sodhi Voice and Accent Trainer :Masters i...\" with entities \"[(1130, 1174, 'Email Address'), (1112, 1116, 'Grad...\". Use `spacy.training.offsets_to_biluo_tags(nlp.make_doc(text), entities)` to check the alignment. Misaligned entities ('-') will be ignored during training.\n",
            "  warnings.warn(\n"
          ]
        },
        {
          "output_type": "stream",
          "name": "stdout",
          "text": [
            "{'ner': 9656.14616204725}\n",
            "{'ner': 9666.091021780436}\n"
          ]
        },
        {
          "output_type": "stream",
          "name": "stderr",
          "text": [
            "/usr/local/lib/python3.9/dist-packages/spacy/training/iob_utils.py:149: UserWarning: [W030] Some entities could not be aligned in the text \"Pradeep Kumar Security Analyst in Infosys - Career...\" with entities \"[(587, 669, 'Skills'), (512, 554, 'College Name'),...\". Use `spacy.training.offsets_to_biluo_tags(nlp.make_doc(text), entities)` to check the alignment. Misaligned entities ('-') will be ignored during training.\n",
            "  warnings.warn(\n",
            "/usr/local/lib/python3.9/dist-packages/spacy/training/iob_utils.py:149: UserWarning: [W030] Some entities could not be aligned in the text \"Jay Madhavi Navi Mumbai, Maharashtra - Email me on...\" with entities \"[(1520, 1524, 'Graduation Year'), (1507, 1518, 'De...\". Use `spacy.training.offsets_to_biluo_tags(nlp.make_doc(text), entities)` to check the alignment. Misaligned entities ('-') will be ignored during training.\n",
            "  warnings.warn(\n",
            "/usr/local/lib/python3.9/dist-packages/spacy/training/iob_utils.py:149: UserWarning: [W030] Some entities could not be aligned in the text \"Harini Komaravelli Test Analyst at Oracle, Hyderab...\" with entities \"[(2275, 2281, 'Companies worked at'), (2235, 2241,...\". Use `spacy.training.offsets_to_biluo_tags(nlp.make_doc(text), entities)` to check the alignment. Misaligned entities ('-') will be ignored during training.\n",
            "  warnings.warn(\n"
          ]
        },
        {
          "output_type": "stream",
          "name": "stdout",
          "text": [
            "{'ner': 9758.012609392948}\n",
            "{'ner': 9806.255164038235}\n"
          ]
        },
        {
          "output_type": "stream",
          "name": "stderr",
          "text": [
            "/usr/local/lib/python3.9/dist-packages/spacy/training/iob_utils.py:149: UserWarning: [W030] Some entities could not be aligned in the text \"Bike Rally Chief Coordinator of LEAR  Palghat, Ker...\" with entities \"[(826, 830, 'Graduation Year'), (779, 797, 'Colleg...\". Use `spacy.training.offsets_to_biluo_tags(nlp.make_doc(text), entities)` to check the alignment. Misaligned entities ('-') will be ignored during training.\n",
            "  warnings.warn(\n",
            "/usr/local/lib/python3.9/dist-packages/spacy/training/iob_utils.py:149: UserWarning: [W030] Some entities could not be aligned in the text \"Prakriti Shaurya Senior System Engineer - Infosys ...\" with entities \"[(1368, 1560, 'Skills'), (1096, 1133, 'Skills'), (...\". Use `spacy.training.offsets_to_biluo_tags(nlp.make_doc(text), entities)` to check the alignment. Misaligned entities ('-') will be ignored during training.\n",
            "  warnings.warn(\n",
            "/usr/local/lib/python3.9/dist-packages/spacy/training/iob_utils.py:149: UserWarning: [W030] Some entities could not be aligned in the text \"Angad Waghmare Pune, Maharashtra - Email me on Ind...\" with entities \"[(3878, 3937, 'Degree'), (3110, 3846, 'Skills'), (...\". Use `spacy.training.offsets_to_biluo_tags(nlp.make_doc(text), entities)` to check the alignment. Misaligned entities ('-') will be ignored during training.\n",
            "  warnings.warn(\n"
          ]
        },
        {
          "output_type": "stream",
          "name": "stdout",
          "text": [
            "{'ner': 9818.9338875132}\n",
            "{'ner': 9842.10307103396}\n",
            "{'ner': 9856.984697901416}\n",
            "{'ner': 9862.641098620943}\n",
            "{'ner': 9872.148558236417}\n"
          ]
        },
        {
          "output_type": "stream",
          "name": "stderr",
          "text": [
            "/usr/local/lib/python3.9/dist-packages/spacy/training/iob_utils.py:149: UserWarning: [W030] Some entities could not be aligned in the text \"shrikant desai Working as accountant @ infosys  Pu...\" with entities \"[(589, 737, 'Skills'), (421, 523, 'Skills'), (391,...\". Use `spacy.training.offsets_to_biluo_tags(nlp.make_doc(text), entities)` to check the alignment. Misaligned entities ('-') will be ignored during training.\n",
            "  warnings.warn(\n",
            "/usr/local/lib/python3.9/dist-packages/spacy/training/iob_utils.py:149: UserWarning: [W030] Some entities could not be aligned in the text \"Rishabh soni Anuppur, Madhya Pradesh - Email me on...\" with entities \"[(242, 256, 'Skills'), (223, 233, 'College Name'),...\". Use `spacy.training.offsets_to_biluo_tags(nlp.make_doc(text), entities)` to check the alignment. Misaligned entities ('-') will be ignored during training.\n",
            "  warnings.warn(\n",
            "/usr/local/lib/python3.9/dist-packages/spacy/training/iob_utils.py:149: UserWarning: [W030] Some entities could not be aligned in the text \"Siddharth Choudhary Microsoft Office Suite - Exper...\" with entities \"[(785, 956, 'Skills'), (643, 674, 'Designation'), ...\". Use `spacy.training.offsets_to_biluo_tags(nlp.make_doc(text), entities)` to check the alignment. Misaligned entities ('-') will be ignored during training.\n",
            "  warnings.warn(\n",
            "/usr/local/lib/python3.9/dist-packages/spacy/training/iob_utils.py:149: UserWarning: [W030] Some entities could not be aligned in the text \"Lakshika Neelakshi Senior Systems Engineer - Infos...\" with entities \"[(7260, 7599, 'Skills'), (3628, 3637, 'Location'),...\". Use `spacy.training.offsets_to_biluo_tags(nlp.make_doc(text), entities)` to check the alignment. Misaligned entities ('-') will be ignored during training.\n",
            "  warnings.warn(\n"
          ]
        },
        {
          "output_type": "stream",
          "name": "stdout",
          "text": [
            "{'ner': 9911.22126912185}\n",
            "{'ner': 9924.460836816948}\n",
            "{'ner': 9935.700947440668}\n"
          ]
        },
        {
          "output_type": "stream",
          "name": "stderr",
          "text": [
            "/usr/local/lib/python3.9/dist-packages/spacy/training/iob_utils.py:149: UserWarning: [W030] Some entities could not be aligned in the text \"Shaheen Unissa SAP ABAP Consultant  Hyderabad, Tel...\" with entities \"[(12088, 12384, 'Skills'), (12044, 12048, 'Graduat...\". Use `spacy.training.offsets_to_biluo_tags(nlp.make_doc(text), entities)` to check the alignment. Misaligned entities ('-') will be ignored during training.\n",
            "  warnings.warn(\n",
            "/usr/local/lib/python3.9/dist-packages/spacy/training/iob_utils.py:149: UserWarning: [W030] Some entities could not be aligned in the text \"Somanath Behera Associate, Cognizant technology So...\" with entities \"[(1916, 2392, 'Skills'), (1562, 1567, 'College Nam...\". Use `spacy.training.offsets_to_biluo_tags(nlp.make_doc(text), entities)` to check the alignment. Misaligned entities ('-') will be ignored during training.\n",
            "  warnings.warn(\n",
            "/usr/local/lib/python3.9/dist-packages/spacy/training/iob_utils.py:149: UserWarning: [W030] Some entities could not be aligned in the text \"Vinay Singhal New Delhi, Delhi - Email me on Indee...\" with entities \"[(937, 980, 'Email Address'), (580, 923, 'Skills')...\". Use `spacy.training.offsets_to_biluo_tags(nlp.make_doc(text), entities)` to check the alignment. Misaligned entities ('-') will be ignored during training.\n",
            "  warnings.warn(\n",
            "/usr/local/lib/python3.9/dist-packages/spacy/training/iob_utils.py:149: UserWarning: [W030] Some entities could not be aligned in the text \"Shaik Tazuddin Senior Process Executive - STAR Ind...\" with entities \"[(2877, 3031, 'Skills'), (2728, 2742, 'College Nam...\". Use `spacy.training.offsets_to_biluo_tags(nlp.make_doc(text), entities)` to check the alignment. Misaligned entities ('-') will be ignored during training.\n",
            "  warnings.warn(\n"
          ]
        },
        {
          "output_type": "stream",
          "name": "stdout",
          "text": [
            "{'ner': 9955.835802379328}\n",
            "{'ner': 9983.990746725261}\n"
          ]
        },
        {
          "output_type": "stream",
          "name": "stderr",
          "text": [
            "/usr/local/lib/python3.9/dist-packages/spacy/training/iob_utils.py:149: UserWarning: [W030] Some entities could not be aligned in the text \"Sanand Pal SQL and MSBI Developer with experience ...\" with entities \"[(3056, 3090, 'Skills'), (3042, 3046, 'Graduation ...\". Use `spacy.training.offsets_to_biluo_tags(nlp.make_doc(text), entities)` to check the alignment. Misaligned entities ('-') will be ignored during training.\n",
            "  warnings.warn(\n",
            "/usr/local/lib/python3.9/dist-packages/spacy/training/iob_utils.py:149: UserWarning: [W030] Some entities could not be aligned in the text \"Mayank Shukla Infosys group as a Test Analyst - In...\" with entities \"[(2348, 3131, 'Skills'), (2324, 2328, 'Graduation ...\". Use `spacy.training.offsets_to_biluo_tags(nlp.make_doc(text), entities)` to check the alignment. Misaligned entities ('-') will be ignored during training.\n",
            "  warnings.warn(\n",
            "/usr/local/lib/python3.9/dist-packages/spacy/training/iob_utils.py:149: UserWarning: [W030] Some entities could not be aligned in the text \"Divesh Singh Bengaluru, Karnataka - Email me on In...\" with entities \"[(947, 1180, 'Skills'), (833, 845, 'College Name')...\". Use `spacy.training.offsets_to_biluo_tags(nlp.make_doc(text), entities)` to check the alignment. Misaligned entities ('-') will be ignored during training.\n",
            "  warnings.warn(\n"
          ]
        },
        {
          "output_type": "stream",
          "name": "stdout",
          "text": [
            "{'ner': 9997.274009843075}\n",
            "{'ner': 10039.75712800967}\n",
            "{'ner': 10050.655428272143}\n"
          ]
        },
        {
          "output_type": "stream",
          "name": "stderr",
          "text": [
            "/usr/local/lib/python3.9/dist-packages/spacy/training/iob_utils.py:149: UserWarning: [W030] Some entities could not be aligned in the text \"Hartej Kathuria Data Analyst Intern - Oracle Retai...\" with entities \"[(2246, 2573, 'Skills'), (1435, 1480, 'Email Addre...\". Use `spacy.training.offsets_to_biluo_tags(nlp.make_doc(text), entities)` to check the alignment. Misaligned entities ('-') will be ignored during training.\n",
            "  warnings.warn(\n",
            "/usr/local/lib/python3.9/dist-packages/spacy/training/iob_utils.py:149: UserWarning: [W030] Some entities could not be aligned in the text \"Hemil Bhavsar Jr. ASP.NET Developer in True Vision...\" with entities \"[(1085, 1500, 'Skills'), (848, 961, 'Skills'), (83...\". Use `spacy.training.offsets_to_biluo_tags(nlp.make_doc(text), entities)` to check the alignment. Misaligned entities ('-') will be ignored during training.\n",
            "  warnings.warn(\n",
            "/usr/local/lib/python3.9/dist-packages/spacy/training/iob_utils.py:149: UserWarning: [W030] Some entities could not be aligned in the text \"Akash Gulhane Microsoft Certified System Engineer ...\" with entities \"[(913, 921, 'Location'), (888, 909, 'College Name'...\". Use `spacy.training.offsets_to_biluo_tags(nlp.make_doc(text), entities)` to check the alignment. Misaligned entities ('-') will be ignored during training.\n",
            "  warnings.warn(\n",
            "/usr/local/lib/python3.9/dist-packages/spacy/training/iob_utils.py:149: UserWarning: [W030] Some entities could not be aligned in the text \"Sai Patha Mule ESB Integration Developer - Cisco S...\" with entities \"[(11921, 12599, 'Skills'), (11791, 11876, 'Skills'...\". Use `spacy.training.offsets_to_biluo_tags(nlp.make_doc(text), entities)` to check the alignment. Misaligned entities ('-') will be ignored during training.\n",
            "  warnings.warn(\n"
          ]
        },
        {
          "output_type": "stream",
          "name": "stdout",
          "text": [
            "{'ner': 10119.24558740874}\n",
            "{'ner': 10139.830442512068}\n",
            "{'ner': 10162.903359815284}\n"
          ]
        },
        {
          "output_type": "stream",
          "name": "stderr",
          "text": [
            "/usr/local/lib/python3.9/dist-packages/spacy/training/iob_utils.py:149: UserWarning: [W030] Some entities could not be aligned in the text \"Puneet Singh Associate Software Engineer  Bengalur...\" with entities \"[(989, 1007, 'Skills'), (952, 968, 'Skills'), (919...\". Use `spacy.training.offsets_to_biluo_tags(nlp.make_doc(text), entities)` to check the alignment. Misaligned entities ('-') will be ignored during training.\n",
            "  warnings.warn(\n",
            "/usr/local/lib/python3.9/dist-packages/spacy/training/iob_utils.py:149: UserWarning: [W030] Some entities could not be aligned in the text \"Rupesh Reddy Technology Consultant - EIT Services ...\" with entities \"[(6732, 6848, 'Skills'), (6703, 6707, 'Graduation ...\". Use `spacy.training.offsets_to_biluo_tags(nlp.make_doc(text), entities)` to check the alignment. Misaligned entities ('-') will be ignored during training.\n",
            "  warnings.warn(\n",
            "/usr/local/lib/python3.9/dist-packages/spacy/training/iob_utils.py:149: UserWarning: [W030] Some entities could not be aligned in the text \"Pratik Vaidya Pune, Maharashtra - Email me on Inde...\" with entities \"[(1901, 1906, 'Skills'), (1812, 1816, 'Graduation ...\". Use `spacy.training.offsets_to_biluo_tags(nlp.make_doc(text), entities)` to check the alignment. Misaligned entities ('-') will be ignored during training.\n",
            "  warnings.warn(\n",
            "/usr/local/lib/python3.9/dist-packages/spacy/training/iob_utils.py:149: UserWarning: [W030] Some entities could not be aligned in the text \"Sameer Kujur Orrisha - Email me on Indeed: indeed....\" with entities \"[(265, 307, 'Email Address'), (210, 251, 'Skills')...\". Use `spacy.training.offsets_to_biluo_tags(nlp.make_doc(text), entities)` to check the alignment. Misaligned entities ('-') will be ignored during training.\n",
            "  warnings.warn(\n"
          ]
        },
        {
          "output_type": "stream",
          "name": "stdout",
          "text": [
            "{'ner': 10169.253834216068}\n",
            "{'ner': 10178.624047961448}\n"
          ]
        },
        {
          "output_type": "stream",
          "name": "stderr",
          "text": [
            "/usr/local/lib/python3.9/dist-packages/spacy/training/iob_utils.py:149: UserWarning: [W030] Some entities could not be aligned in the text \"Zaheer Uddin Technical Project Manager  Hyderabad,...\" with entities \"[(4901, 4910, 'Location'), (4843, 4861, 'College N...\". Use `spacy.training.offsets_to_biluo_tags(nlp.make_doc(text), entities)` to check the alignment. Misaligned entities ('-') will be ignored during training.\n",
            "  warnings.warn(\n",
            "/usr/local/lib/python3.9/dist-packages/spacy/training/iob_utils.py:149: UserWarning: [W030] Some entities could not be aligned in the text \"Prasanna Ignatius MICROSOFT - Backup Administrator...\" with entities \"[(3917, 3975, 'Skills'), (3790, 3835, 'College Nam...\". Use `spacy.training.offsets_to_biluo_tags(nlp.make_doc(text), entities)` to check the alignment. Misaligned entities ('-') will be ignored during training.\n",
            "  warnings.warn(\n"
          ]
        },
        {
          "output_type": "stream",
          "name": "stdout",
          "text": [
            "{'ner': 10206.339375972178}\n",
            "{'ner': 10220.285925445043}\n"
          ]
        },
        {
          "output_type": "stream",
          "name": "stderr",
          "text": [
            "/usr/local/lib/python3.9/dist-packages/spacy/training/iob_utils.py:149: UserWarning: [W030] Some entities could not be aligned in the text \"Paul Rajiv Secunderabad, Andhra Pradesh - Email me...\" with entities \"[(4729, 4733, 'Graduation Year'), (2634, 2638, 'Gr...\". Use `spacy.training.offsets_to_biluo_tags(nlp.make_doc(text), entities)` to check the alignment. Misaligned entities ('-') will be ignored during training.\n",
            "  warnings.warn(\n",
            "/usr/local/lib/python3.9/dist-packages/spacy/training/iob_utils.py:149: UserWarning: [W030] Some entities could not be aligned in the text \"Sarfaraz Ahmad Associate network engineer - TATA C...\" with entities \"[(4690, 5815, 'Skills'), (4558, 4577, 'College Nam...\". Use `spacy.training.offsets_to_biluo_tags(nlp.make_doc(text), entities)` to check the alignment. Misaligned entities ('-') will be ignored during training.\n",
            "  warnings.warn(\n"
          ]
        },
        {
          "output_type": "stream",
          "name": "stdout",
          "text": [
            "{'ner': 10242.612602353924}\n",
            "{'ner': 10265.406557961598}\n"
          ]
        },
        {
          "output_type": "stream",
          "name": "stderr",
          "text": [
            "/usr/local/lib/python3.9/dist-packages/spacy/training/iob_utils.py:149: UserWarning: [W030] Some entities could not be aligned in the text \"Tejasri Gunnam Bengaluru, Karnataka - Email me on ...\" with entities \"[(3517, 3878, 'Skills'), (3387, 3481, 'Skills'), (...\". Use `spacy.training.offsets_to_biluo_tags(nlp.make_doc(text), entities)` to check the alignment. Misaligned entities ('-') will be ignored during training.\n",
            "  warnings.warn(\n",
            "/usr/local/lib/python3.9/dist-packages/spacy/training/iob_utils.py:149: UserWarning: [W030] Some entities could not be aligned in the text \"Siddhartha Chetri 7 years of experience in IT Netw...\" with entities \"[(5471, 5838, 'Skills'), (5457, 5461, 'Graduation ...\". Use `spacy.training.offsets_to_biluo_tags(nlp.make_doc(text), entities)` to check the alignment. Misaligned entities ('-') will be ignored during training.\n",
            "  warnings.warn(\n"
          ]
        },
        {
          "output_type": "stream",
          "name": "stdout",
          "text": [
            "{'ner': 10273.428862013969}\n",
            "{'ner': 10277.17456972823}\n"
          ]
        },
        {
          "output_type": "stream",
          "name": "stderr",
          "text": [
            "/usr/local/lib/python3.9/dist-packages/spacy/training/iob_utils.py:149: UserWarning: [W030] Some entities could not be aligned in the text \"Ajay Elango Software Engineer  Bangalore City, Kar...\" with entities \"[(6930, 7494, 'Skills'), (6845, 6875, 'College Nam...\". Use `spacy.training.offsets_to_biluo_tags(nlp.make_doc(text), entities)` to check the alignment. Misaligned entities ('-') will be ignored during training.\n",
            "  warnings.warn(\n",
            "/usr/local/lib/python3.9/dist-packages/spacy/training/iob_utils.py:149: UserWarning: [W030] Some entities could not be aligned in the text \"Tanmoy Maity Kolkata, West Bengal - Email me on In...\" with entities \"[(319, 338, 'Skills'), (289, 296, 'Location'), (28...\". Use `spacy.training.offsets_to_biluo_tags(nlp.make_doc(text), entities)` to check the alignment. Misaligned entities ('-') will be ignored during training.\n",
            "  warnings.warn(\n",
            "/usr/local/lib/python3.9/dist-packages/spacy/training/iob_utils.py:149: UserWarning: [W030] Some entities could not be aligned in the text \"Sayani Goswami I Phone solution Consultant  Kolkat...\" with entities \"[(314, 333, 'College Name'), (261, 271, 'Companies...\". Use `spacy.training.offsets_to_biluo_tags(nlp.make_doc(text), entities)` to check the alignment. Misaligned entities ('-') will be ignored during training.\n",
            "  warnings.warn(\n"
          ]
        },
        {
          "output_type": "stream",
          "name": "stdout",
          "text": [
            "{'ner': 10295.596478274461}\n",
            "{'ner': 10299.409967865031}\n",
            "{'ner': 10307.805199686412}\n",
            "{'ner': 10317.422164544267}\n"
          ]
        },
        {
          "output_type": "stream",
          "name": "stderr",
          "text": [
            "/usr/local/lib/python3.9/dist-packages/spacy/training/iob_utils.py:149: UserWarning: [W030] Some entities could not be aligned in the text \"Bangalore Tavarekere Volunteer Contestant, Yappon ...\" with entities \"[(386, 391, 'Graduation Year'), (320, 361, 'Colleg...\". Use `spacy.training.offsets_to_biluo_tags(nlp.make_doc(text), entities)` to check the alignment. Misaligned entities ('-') will be ignored during training.\n",
            "  warnings.warn(\n",
            "/usr/local/lib/python3.9/dist-packages/spacy/training/iob_utils.py:149: UserWarning: [W030] Some entities could not be aligned in the text \"Tapan kumar Nayak Bhubaneshwar, Orissa - Email me ...\" with entities \"[(168, 181, 'Location'), (152, 159, 'Companies wor...\". Use `spacy.training.offsets_to_biluo_tags(nlp.make_doc(text), entities)` to check the alignment. Misaligned entities ('-') will be ignored during training.\n",
            "  warnings.warn(\n",
            "/usr/local/lib/python3.9/dist-packages/spacy/training/iob_utils.py:149: UserWarning: [W030] Some entities could not be aligned in the text \"Shivam Rathi Microsoft technology Associate (MTA) ...\" with entities \"[(1379, 1406, 'College Name'), (1371, 1378, 'Degre...\". Use `spacy.training.offsets_to_biluo_tags(nlp.make_doc(text), entities)` to check the alignment. Misaligned entities ('-') will be ignored during training.\n",
            "  warnings.warn(\n",
            "/usr/local/lib/python3.9/dist-packages/spacy/training/iob_utils.py:149: UserWarning: [W030] Some entities could not be aligned in the text \"Mohini Gupta Server Support Engineer  Gurgaon, Har...\" with entities \"[(2326, 2333, 'Location'), (1821, 2095, 'Skills'),...\". Use `spacy.training.offsets_to_biluo_tags(nlp.make_doc(text), entities)` to check the alignment. Misaligned entities ('-') will be ignored during training.\n",
            "  warnings.warn(\n"
          ]
        },
        {
          "output_type": "stream",
          "name": "stdout",
          "text": [
            "{'ner': 10341.256562419036}\n",
            "{'ner': 10364.859843426582}\n"
          ]
        },
        {
          "output_type": "stream",
          "name": "stderr",
          "text": [
            "/usr/local/lib/python3.9/dist-packages/spacy/training/iob_utils.py:149: UserWarning: [W030] Some entities could not be aligned in the text \"Rahul Bollu Software Engineer - Disney  Hyderabad,...\" with entities \"[(4093, 4190, 'Skills'), (3940, 4089, 'Skills'), (...\". Use `spacy.training.offsets_to_biluo_tags(nlp.make_doc(text), entities)` to check the alignment. Misaligned entities ('-') will be ignored during training.\n",
            "  warnings.warn(\n",
            "/usr/local/lib/python3.9/dist-packages/spacy/training/iob_utils.py:149: UserWarning: [W030] Some entities could not be aligned in the text \"Srinivas VO Sr. Test Manager  Mumbai, Maharashtra ...\" with entities \"[(11201, 11409, 'Skills'), (11172, 11191, 'College...\". Use `spacy.training.offsets_to_biluo_tags(nlp.make_doc(text), entities)` to check the alignment. Misaligned entities ('-') will be ignored during training.\n",
            "  warnings.warn(\n"
          ]
        },
        {
          "output_type": "stream",
          "name": "stdout",
          "text": [
            "{'ner': 10383.192193286932}\n",
            "{'ner': 10423.942759778352}\n"
          ]
        },
        {
          "output_type": "stream",
          "name": "stderr",
          "text": [
            "/usr/local/lib/python3.9/dist-packages/spacy/training/iob_utils.py:149: UserWarning: [W030] Some entities could not be aligned in the text \"Dushyant Bhatt BI / Big Data/ Azure  Hyderabad-Dec...\" with entities \"[(5893, 6043, 'Skills'), (5838, 5859, 'College Nam...\". Use `spacy.training.offsets_to_biluo_tags(nlp.make_doc(text), entities)` to check the alignment. Misaligned entities ('-') will be ignored during training.\n",
            "  warnings.warn(\n",
            "/usr/local/lib/python3.9/dist-packages/spacy/training/iob_utils.py:149: UserWarning: [W030] Some entities could not be aligned in the text \"Palani S Senior Technology Support Executive at In...\" with entities \"[(3660, 3664, 'Graduation Year'), (3598, 3602, 'Gr...\". Use `spacy.training.offsets_to_biluo_tags(nlp.make_doc(text), entities)` to check the alignment. Misaligned entities ('-') will be ignored during training.\n",
            "  warnings.warn(\n",
            "/usr/local/lib/python3.9/dist-packages/spacy/training/iob_utils.py:149: UserWarning: [W030] Some entities could not be aligned in the text \"Shivam Sharma L1 Analyst in Microsoft project - HC...\" with entities \"[(1380, 1525, 'Skills'), (1287, 1296, 'Location'),...\". Use `spacy.training.offsets_to_biluo_tags(nlp.make_doc(text), entities)` to check the alignment. Misaligned entities ('-') will be ignored during training.\n",
            "  warnings.warn(\n",
            "/usr/local/lib/python3.9/dist-packages/spacy/training/iob_utils.py:149: UserWarning: [W030] Some entities could not be aligned in the text \"Yogi Pesaru Developer - Infosys Limited  Hyderabad...\" with entities \"[(3748, 3809, 'Skills'), (3679, 3745, 'Skills'), (...\". Use `spacy.training.offsets_to_biluo_tags(nlp.make_doc(text), entities)` to check the alignment. Misaligned entities ('-') will be ignored during training.\n",
            "  warnings.warn(\n",
            "/usr/local/lib/python3.9/dist-packages/spacy/training/iob_utils.py:149: UserWarning: [W030] Some entities could not be aligned in the text \"Kartik Sharma Systems Engineer - Infosys Ltd  Delh...\" with entities \"[(3086, 3255, 'Skills'), (3046, 3058, 'Skills'), (...\". Use `spacy.training.offsets_to_biluo_tags(nlp.make_doc(text), entities)` to check the alignment. Misaligned entities ('-') will be ignored during training.\n",
            "  warnings.warn(\n"
          ]
        },
        {
          "output_type": "stream",
          "name": "stdout",
          "text": [
            "{'ner': 10450.889096534052}\n",
            "{'ner': 10492.471581477403}\n",
            "{'ner': 10502.218268354918}\n"
          ]
        },
        {
          "output_type": "stream",
          "name": "stderr",
          "text": [
            "/usr/local/lib/python3.9/dist-packages/spacy/training/iob_utils.py:149: UserWarning: [W030] Some entities could not be aligned in the text \"Srinu Naik Ramavath anymore job  Serilingampalle, ...\" with entities \"[(670, 694, 'Skills'), (596, 644, 'Skills'), (375,...\". Use `spacy.training.offsets_to_biluo_tags(nlp.make_doc(text), entities)` to check the alignment. Misaligned entities ('-') will be ignored during training.\n",
            "  warnings.warn(\n",
            "/usr/local/lib/python3.9/dist-packages/spacy/training/iob_utils.py:149: UserWarning: [W030] Some entities could not be aligned in the text \"kimaya sonawane Thane, Maharashtra - Email me on I...\" with entities \"[(802, 806, 'Graduation Year'), (524, 661, 'Skills...\". Use `spacy.training.offsets_to_biluo_tags(nlp.make_doc(text), entities)` to check the alignment. Misaligned entities ('-') will be ignored during training.\n",
            "  warnings.warn(\n",
            "/usr/local/lib/python3.9/dist-packages/spacy/training/iob_utils.py:149: UserWarning: [W030] Some entities could not be aligned in the text \"Asha Subbaiah (Microsoft Partner Readiness Operati...\" with entities \"[(3345, 3380, 'College Name'), (3321, 3344, 'Degre...\". Use `spacy.training.offsets_to_biluo_tags(nlp.make_doc(text), entities)` to check the alignment. Misaligned entities ('-') will be ignored during training.\n",
            "  warnings.warn(\n"
          ]
        },
        {
          "output_type": "stream",
          "name": "stdout",
          "text": [
            "{'ner': 10520.547391729482}\n",
            "{'ner': 10532.132507636454}\n"
          ]
        },
        {
          "output_type": "stream",
          "name": "stderr",
          "text": [
            "/usr/local/lib/python3.9/dist-packages/spacy/training/iob_utils.py:149: UserWarning: [W030] Some entities could not be aligned in the text \"Madas Peddaiah Anantapur, Andhra Pradesh - Email m...\" with entities \"[(2934, 2938, 'Graduation Year'), (2917, 2921, 'Gr...\". Use `spacy.training.offsets_to_biluo_tags(nlp.make_doc(text), entities)` to check the alignment. Misaligned entities ('-') will be ignored during training.\n",
            "  warnings.warn(\n",
            "/usr/local/lib/python3.9/dist-packages/spacy/training/iob_utils.py:149: UserWarning: [W030] Some entities could not be aligned in the text \"Viny Khandelwal Self-employed in Family Business -...\" with entities \"[(3375, 3390, 'Name'), (2952, 3086, 'Skills'), (28...\". Use `spacy.training.offsets_to_biluo_tags(nlp.make_doc(text), entities)` to check the alignment. Misaligned entities ('-') will be ignored during training.\n",
            "  warnings.warn(\n"
          ]
        },
        {
          "output_type": "stream",
          "name": "stdout",
          "text": [
            "{'ner': 10574.836856286807}\n",
            "{'ner': 10591.142519004012}\n"
          ]
        },
        {
          "output_type": "stream",
          "name": "stderr",
          "text": [
            "/usr/local/lib/python3.9/dist-packages/spacy/training/iob_utils.py:149: UserWarning: [W030] Some entities could not be aligned in the text \"Sharan Adla - Email me on Indeed: indeed.com/r/Sha...\" with entities \"[(2421, 2450, 'College Name'), (2416, 2419, 'Degre...\". Use `spacy.training.offsets_to_biluo_tags(nlp.make_doc(text), entities)` to check the alignment. Misaligned entities ('-') will be ignored during training.\n",
            "  warnings.warn(\n",
            "/usr/local/lib/python3.9/dist-packages/spacy/training/iob_utils.py:149: UserWarning: [W030] Some entities could not be aligned in the text \"Chaban kumar Debbarma Tripura - Email me on Indeed...\" with entities \"[(277, 328, 'Email Address'), (257, 263, 'College ...\". Use `spacy.training.offsets_to_biluo_tags(nlp.make_doc(text), entities)` to check the alignment. Misaligned entities ('-') will be ignored during training.\n",
            "  warnings.warn(\n",
            "/usr/local/lib/python3.9/dist-packages/spacy/training/iob_utils.py:149: UserWarning: [W030] Some entities could not be aligned in the text \"Sohan Dhakad Shivpuri, Madhya Pradesh - Email me o...\" with entities \"[(870, 894, 'Skills'), (793, 810, 'College Name'),...\". Use `spacy.training.offsets_to_biluo_tags(nlp.make_doc(text), entities)` to check the alignment. Misaligned entities ('-') will be ignored during training.\n",
            "  warnings.warn(\n",
            "/usr/local/lib/python3.9/dist-packages/spacy/training/iob_utils.py:149: UserWarning: [W030] Some entities could not be aligned in the text \"Keshav Dhawale 3 TCS Security guard Access Control...\" with entities \"[(971, 1015, 'Email Address'), (877, 895, 'College...\". Use `spacy.training.offsets_to_biluo_tags(nlp.make_doc(text), entities)` to check the alignment. Misaligned entities ('-') will be ignored during training.\n",
            "  warnings.warn(\n"
          ]
        },
        {
          "output_type": "stream",
          "name": "stdout",
          "text": [
            "{'ner': 10649.448842660177}\n",
            "{'ner': 10654.740915180922}\n",
            "{'ner': 10659.499924488948}\n",
            "{'ner': 10665.024940707708}\n"
          ]
        },
        {
          "output_type": "stream",
          "name": "stderr",
          "text": [
            "/usr/local/lib/python3.9/dist-packages/spacy/training/iob_utils.py:149: UserWarning: [W030] Some entities could not be aligned in the text \"Soumya Balan IT SUPPORT  Sulthan Bathery, Kerala, ...\" with entities \"[(3913, 4370, 'Skills'), (3880, 3884, 'Graduation ...\". Use `spacy.training.offsets_to_biluo_tags(nlp.make_doc(text), entities)` to check the alignment. Misaligned entities ('-') will be ignored during training.\n",
            "  warnings.warn(\n",
            "/usr/local/lib/python3.9/dist-packages/spacy/training/iob_utils.py:149: UserWarning: [W030] Some entities could not be aligned in the text \"Karthik GV Architect - Microsoft India  Hyderabad,...\" with entities \"[(4048, 4169, 'Skills'), (4034, 4038, 'Graduation ...\". Use `spacy.training.offsets_to_biluo_tags(nlp.make_doc(text), entities)` to check the alignment. Misaligned entities ('-') will be ignored during training.\n",
            "  warnings.warn(\n"
          ]
        },
        {
          "output_type": "stream",
          "name": "stdout",
          "text": [
            "{'ner': 10673.818702552795}\n",
            "{'ner': 10711.325244500396}\n",
            "{'ner': 10721.182973467503}\n"
          ]
        },
        {
          "output_type": "stream",
          "name": "stderr",
          "text": [
            "/usr/local/lib/python3.9/dist-packages/spacy/training/iob_utils.py:149: UserWarning: [W030] Some entities could not be aligned in the text \"Karthik G V Program Manager, Product Manager, Prod...\" with entities \"[(1750, 1759, 'Companies worked at'), (1467, 1476,...\". Use `spacy.training.offsets_to_biluo_tags(nlp.make_doc(text), entities)` to check the alignment. Misaligned entities ('-') will be ignored during training.\n",
            "  warnings.warn(\n",
            "/usr/local/lib/python3.9/dist-packages/spacy/training/iob_utils.py:149: UserWarning: [W030] Some entities could not be aligned in the text \"Ashish Indoriya Sr. Systems Engineer at Infosys Li...\" with entities \"[(3828, 3931, 'Skills'), (3753, 3794, 'College Nam...\". Use `spacy.training.offsets_to_biluo_tags(nlp.make_doc(text), entities)` to check the alignment. Misaligned entities ('-') will be ignored during training.\n",
            "  warnings.warn(\n"
          ]
        },
        {
          "output_type": "stream",
          "name": "stdout",
          "text": [
            "{'ner': 10729.19785948375}\n",
            "{'ner': 10741.499499687166}\n",
            "{'ner': 10749.88129668573}\n"
          ]
        },
        {
          "output_type": "stream",
          "name": "stderr",
          "text": [
            "/usr/local/lib/python3.9/dist-packages/spacy/training/iob_utils.py:149: UserWarning: [W030] Some entities could not be aligned in the text \"Abdul B Arabic Language supporter (Content Analyst...\" with entities \"[(2349, 2472, 'Skills'), (2331, 2340, 'Degree'), (...\". Use `spacy.training.offsets_to_biluo_tags(nlp.make_doc(text), entities)` to check the alignment. Misaligned entities ('-') will be ignored during training.\n",
            "  warnings.warn(\n",
            "/usr/local/lib/python3.9/dist-packages/spacy/training/iob_utils.py:149: UserWarning: [W030] Some entities could not be aligned in the text \"Gaikwad Dilip Microsoft Dainamic Software Billing ...\" with entities \"[(951, 990, 'Skills'), (926, 941, 'Companies worke...\". Use `spacy.training.offsets_to_biluo_tags(nlp.make_doc(text), entities)` to check the alignment. Misaligned entities ('-') will be ignored during training.\n",
            "  warnings.warn(\n",
            "/usr/local/lib/python3.9/dist-packages/spacy/training/iob_utils.py:149: UserWarning: [W030] Some entities could not be aligned in the text \"Ganesh AlalaSundaram A Dev-Test Professional with ...\" with entities \"[(3321, 3376, 'Skills'), (3296, 3311, 'College Nam...\". Use `spacy.training.offsets_to_biluo_tags(nlp.make_doc(text), entities)` to check the alignment. Misaligned entities ('-') will be ignored during training.\n",
            "  warnings.warn(\n",
            "/usr/local/lib/python3.9/dist-packages/spacy/training/iob_utils.py:149: UserWarning: [W030] Some entities could not be aligned in the text \"Akshay Dubey Actively looking for opportunity in ....\" with entities \"[(2889, 3089, 'Skills'), (2734, 2846, 'Skills'), (...\". Use `spacy.training.offsets_to_biluo_tags(nlp.make_doc(text), entities)` to check the alignment. Misaligned entities ('-') will be ignored during training.\n",
            "  warnings.warn(\n",
            "/usr/local/lib/python3.9/dist-packages/spacy/training/iob_utils.py:149: UserWarning: [W030] Some entities could not be aligned in the text \"Akila Mohideen System Engineer, Infosys Limited, I...\" with entities \"[(2207, 2359, 'Skills'), (2095, 2138, 'College Nam...\". Use `spacy.training.offsets_to_biluo_tags(nlp.make_doc(text), entities)` to check the alignment. Misaligned entities ('-') will be ignored during training.\n",
            "  warnings.warn(\n"
          ]
        },
        {
          "output_type": "stream",
          "name": "stdout",
          "text": [
            "{'ner': 10759.49171069229}\n",
            "{'ner': 10780.609716014345}\n",
            "{'ner': 10810.344245974935}\n"
          ]
        },
        {
          "output_type": "stream",
          "name": "stderr",
          "text": [
            "/usr/local/lib/python3.9/dist-packages/spacy/training/iob_utils.py:149: UserWarning: [W030] Some entities could not be aligned in the text \"Srushti Bhadale Mumbai, Maharashtra - Email me on ...\" with entities \"[(1551, 1852, 'Skills'), (1454, 1499, 'Email Addre...\". Use `spacy.training.offsets_to_biluo_tags(nlp.make_doc(text), entities)` to check the alignment. Misaligned entities ('-') will be ignored during training.\n",
            "  warnings.warn(\n",
            "/usr/local/lib/python3.9/dist-packages/spacy/training/iob_utils.py:149: UserWarning: [W030] Some entities could not be aligned in the text \"Suresh Kanagala Architecture SharePoint/Office 365...\" with entities \"[(1171, 1574, 'Skills'), (962, 1096, 'Skills'), (9...\". Use `spacy.training.offsets_to_biluo_tags(nlp.make_doc(text), entities)` to check the alignment. Misaligned entities ('-') will be ignored during training.\n",
            "  warnings.warn(\n",
            "/usr/local/lib/python3.9/dist-packages/spacy/training/iob_utils.py:149: UserWarning: [W030] Some entities could not be aligned in the text \"Praveen Bhaskar Program Manager (Software Delivery...\" with entities \"[(4459, 4959, 'Skills'), (4445, 4450, 'Designation...\". Use `spacy.training.offsets_to_biluo_tags(nlp.make_doc(text), entities)` to check the alignment. Misaligned entities ('-') will be ignored during training.\n",
            "  warnings.warn(\n"
          ]
        },
        {
          "output_type": "stream",
          "name": "stdout",
          "text": [
            "{'ner': 10954.193941591067}\n",
            "{'ner': 10965.863534325523}\n"
          ]
        },
        {
          "output_type": "stream",
          "name": "stderr",
          "text": [
            "/usr/local/lib/python3.9/dist-packages/spacy/training/iob_utils.py:149: UserWarning: [W030] Some entities could not be aligned in the text \"Arpit Jain Quality Analyst - ThoughtWorks Technolo...\" with entities \"[(2301, 2380, 'Skills'), (2088, 2131, 'College Nam...\". Use `spacy.training.offsets_to_biluo_tags(nlp.make_doc(text), entities)` to check the alignment. Misaligned entities ('-') will be ignored during training.\n",
            "  warnings.warn(\n",
            "/usr/local/lib/python3.9/dist-packages/spacy/training/iob_utils.py:149: UserWarning: [W030] Some entities could not be aligned in the text \"Khushboo Choudhary Developer  Noida, Uttar Pradesh...\" with entities \"[(1466, 1549, 'Skills'), (1363, 1421, 'College Nam...\". Use `spacy.training.offsets_to_biluo_tags(nlp.make_doc(text), entities)` to check the alignment. Misaligned entities ('-') will be ignored during training.\n",
            "  warnings.warn(\n",
            "/usr/local/lib/python3.9/dist-packages/spacy/training/iob_utils.py:149: UserWarning: [W030] Some entities could not be aligned in the text \"Sivaganesh Selvakumar DevOps Consultant with Infos...\" with entities \"[(2349, 2642, 'Skills'), (2257, 2291, 'College Nam...\". Use `spacy.training.offsets_to_biluo_tags(nlp.make_doc(text), entities)` to check the alignment. Misaligned entities ('-') will be ignored during training.\n",
            "  warnings.warn(\n"
          ]
        },
        {
          "output_type": "stream",
          "name": "stdout",
          "text": [
            "{'ner': 10979.60352165053}\n",
            "{'ner': 10999.001250813446}\n",
            "{'ner': 11007.141337882756}\n"
          ]
        },
        {
          "output_type": "stream",
          "name": "stderr",
          "text": [
            "/usr/local/lib/python3.9/dist-packages/spacy/training/iob_utils.py:149: UserWarning: [W030] Some entities could not be aligned in the text \"Mohamed Ameen System engineer  Bengaluru, Karnatak...\" with entities \"[(1632, 1636, 'Graduation Year'), (931, 1013, 'Ski...\". Use `spacy.training.offsets_to_biluo_tags(nlp.make_doc(text), entities)` to check the alignment. Misaligned entities ('-') will be ignored during training.\n",
            "  warnings.warn(\n",
            "/usr/local/lib/python3.9/dist-packages/spacy/training/iob_utils.py:149: UserWarning: [W030] Some entities could not be aligned in the text \"Fenil Francis head of operation and logistics  Tri...\" with entities \"[(774, 897, 'Skills'), (694, 728, 'Skills'), (648,...\". Use `spacy.training.offsets_to_biluo_tags(nlp.make_doc(text), entities)` to check the alignment. Misaligned entities ('-') will be ignored during training.\n",
            "  warnings.warn(\n",
            "/usr/local/lib/python3.9/dist-packages/spacy/training/iob_utils.py:149: UserWarning: [W030] Some entities could not be aligned in the text \"Puneeth R Escalation Specialist - HiPower Support ...\" with entities \"[(2182, 2210, 'College Name'), (2177, 2180, 'Degre...\". Use `spacy.training.offsets_to_biluo_tags(nlp.make_doc(text), entities)` to check the alignment. Misaligned entities ('-') will be ignored during training.\n",
            "  warnings.warn(\n"
          ]
        },
        {
          "output_type": "stream",
          "name": "stdout",
          "text": [
            "{'ner': 11027.410214785941}\n",
            "{'ner': 11045.14402031966}\n",
            "{'ner': 11052.636021653421}\n"
          ]
        },
        {
          "output_type": "stream",
          "name": "stderr",
          "text": [
            "/usr/local/lib/python3.9/dist-packages/spacy/training/iob_utils.py:149: UserWarning: [W030] Some entities could not be aligned in the text \"Avani Priya - Email me on Indeed: indeed.com/r/Ava...\" with entities \"[(368, 409, 'Email Address'), (314, 334, 'College ...\". Use `spacy.training.offsets_to_biluo_tags(nlp.make_doc(text), entities)` to check the alignment. Misaligned entities ('-') will be ignored during training.\n",
            "  warnings.warn(\n",
            "/usr/local/lib/python3.9/dist-packages/spacy/training/iob_utils.py:149: UserWarning: [W030] Some entities could not be aligned in the text \"Kowsick Somasundaram Certified Network Associate T...\" with entities \"[(696, 1129, 'Skills'), (625, 661, 'College Name')...\". Use `spacy.training.offsets_to_biluo_tags(nlp.make_doc(text), entities)` to check the alignment. Misaligned entities ('-') will be ignored during training.\n",
            "  warnings.warn(\n",
            "/usr/local/lib/python3.9/dist-packages/spacy/training/iob_utils.py:149: UserWarning: [W030] Some entities could not be aligned in the text \"Yathishwaran P Maximo Consultant - Infosys Limited...\" with entities \"[(19523, 19683, 'Skills'), (19377, 19479, 'Skills'...\". Use `spacy.training.offsets_to_biluo_tags(nlp.make_doc(text), entities)` to check the alignment. Misaligned entities ('-') will be ignored during training.\n",
            "  warnings.warn(\n"
          ]
        },
        {
          "output_type": "stream",
          "name": "stdout",
          "text": [
            "{'ner': 11058.612776376474}\n",
            "{'ner': 11089.134605296145}\n"
          ]
        },
        {
          "output_type": "stream",
          "name": "stderr",
          "text": [
            "/usr/local/lib/python3.9/dist-packages/spacy/training/iob_utils.py:149: UserWarning: [W030] Some entities could not be aligned in the text \"Vijayalakshmi Govindarajan SAP as a Consultant - S...\" with entities \"[(6310, 6336, 'Name'), (5746, 5755, 'Companies wor...\". Use `spacy.training.offsets_to_biluo_tags(nlp.make_doc(text), entities)` to check the alignment. Misaligned entities ('-') will be ignored during training.\n",
            "  warnings.warn(\n"
          ]
        },
        {
          "output_type": "stream",
          "name": "stdout",
          "text": [
            "{'ner': 11116.843410003654}\n",
            "{'ner': 11129.004357613281}\n"
          ]
        },
        {
          "output_type": "stream",
          "name": "stderr",
          "text": [
            "/usr/local/lib/python3.9/dist-packages/spacy/training/iob_utils.py:149: UserWarning: [W030] Some entities could not be aligned in the text \"Krishna Prasad Patna, Bihar - Email me on Indeed: ...\" with entities \"[(283, 327, 'Email Address'), (257, 262, 'Location...\". Use `spacy.training.offsets_to_biluo_tags(nlp.make_doc(text), entities)` to check the alignment. Misaligned entities ('-') will be ignored during training.\n",
            "  warnings.warn(\n",
            "/usr/local/lib/python3.9/dist-packages/spacy/training/iob_utils.py:149: UserWarning: [W030] Some entities could not be aligned in the text \"Jatin Arora SDET Automation Engineer, Infosys - CR...\" with entities \"[(3909, 3931, 'College Name'), (3883, 3908, 'Degre...\". Use `spacy.training.offsets_to_biluo_tags(nlp.make_doc(text), entities)` to check the alignment. Misaligned entities ('-') will be ignored during training.\n",
            "  warnings.warn(\n"
          ]
        },
        {
          "output_type": "stream",
          "name": "stdout",
          "text": [
            "{'ner': 11135.75953542517}\n",
            "{'ner': 11146.814058215987}\n"
          ]
        },
        {
          "output_type": "stream",
          "name": "stderr",
          "text": [
            "/usr/local/lib/python3.9/dist-packages/spacy/training/iob_utils.py:149: UserWarning: [W030] Some entities could not be aligned in the text \"Krishna Prasad Patna City, Bihar - Email me on Ind...\" with entities \"[(288, 293, 'Location'), (267, 285, 'College Name'...\". Use `spacy.training.offsets_to_biluo_tags(nlp.make_doc(text), entities)` to check the alignment. Misaligned entities ('-') will be ignored during training.\n",
            "  warnings.warn(\n",
            "/usr/local/lib/python3.9/dist-packages/spacy/training/iob_utils.py:149: UserWarning: [W030] Some entities could not be aligned in the text \"Ramya. P Hyderabad, Telangana - Email me on Indeed...\" with entities \"[(4542, 4549, 'Skills'), (4178, 4187, 'Skills'), (...\". Use `spacy.training.offsets_to_biluo_tags(nlp.make_doc(text), entities)` to check the alignment. Misaligned entities ('-') will be ignored during training.\n",
            "  warnings.warn(\n"
          ]
        },
        {
          "output_type": "stream",
          "name": "stdout",
          "text": [
            "{'ner': 11203.396894502603}\n",
            "{'ner': 11222.743061764551}\n"
          ]
        },
        {
          "output_type": "stream",
          "name": "stderr",
          "text": [
            "/usr/local/lib/python3.9/dist-packages/spacy/training/iob_utils.py:149: UserWarning: [W030] Some entities could not be aligned in the text \"Pawan Nag Microsoft Certified System Engineer  Del...\" with entities \"[(523, 562, 'Email Address'), (500, 509, 'Name'), ...\". Use `spacy.training.offsets_to_biluo_tags(nlp.make_doc(text), entities)` to check the alignment. Misaligned entities ('-') will be ignored during training.\n",
            "  warnings.warn(\n",
            "/usr/local/lib/python3.9/dist-packages/spacy/training/iob_utils.py:149: UserWarning: [W030] Some entities could not be aligned in the text \"Debasish Dasgupta Trainer-Finacle-Core Banking Sol...\" with entities \"[(5840, 5847, 'Companies worked at'), (2090, 2137,...\". Use `spacy.training.offsets_to_biluo_tags(nlp.make_doc(text), entities)` to check the alignment. Misaligned entities ('-') will be ignored during training.\n",
            "  warnings.warn(\n"
          ]
        },
        {
          "output_type": "stream",
          "name": "stdout",
          "text": [
            "{'ner': 11240.525874166015}\n"
          ]
        },
        {
          "output_type": "stream",
          "name": "stderr",
          "text": [
            "/usr/local/lib/python3.9/dist-packages/spacy/training/iob_utils.py:149: UserWarning: [W030] Some entities could not be aligned in the text \"Venkateswara D specialist - Technology Process  IN...\" with entities \"[(7858, 7886, 'College Name'), (7853, 7856, 'Degre...\". Use `spacy.training.offsets_to_biluo_tags(nlp.make_doc(text), entities)` to check the alignment. Misaligned entities ('-') will be ignored during training.\n",
            "  warnings.warn(\n"
          ]
        },
        {
          "output_type": "stream",
          "name": "stdout",
          "text": [
            "{'ner': 11255.698098820612}\n",
            "{'ner': 11265.967824638448}\n",
            "{'ner': 11274.396687036664}\n"
          ]
        },
        {
          "output_type": "stream",
          "name": "stderr",
          "text": [
            "/usr/local/lib/python3.9/dist-packages/spacy/training/iob_utils.py:149: UserWarning: [W030] Some entities could not be aligned in the text \"Vamsi krishna hyderbad, Telangana - Email me on In...\" with entities \"[(271, 290, 'Skills'), (231, 261, 'College Name'),...\". Use `spacy.training.offsets_to_biluo_tags(nlp.make_doc(text), entities)` to check the alignment. Misaligned entities ('-') will be ignored during training.\n",
            "  warnings.warn(\n",
            "/usr/local/lib/python3.9/dist-packages/spacy/training/iob_utils.py:149: UserWarning: [W030] Some entities could not be aligned in the text \"Karan Turkar Balaghat, Madhya Pradesh - Email me o...\" with entities \"[(228, 272, 'Skills'), (214, 218, 'College Name'),...\". Use `spacy.training.offsets_to_biluo_tags(nlp.make_doc(text), entities)` to check the alignment. Misaligned entities ('-') will be ignored during training.\n",
            "  warnings.warn(\n",
            "/usr/local/lib/python3.9/dist-packages/spacy/training/iob_utils.py:149: UserWarning: [W030] Some entities could not be aligned in the text \"Aarti Pimplay Operations Center Shift Manager (OCS...\" with entities \"[(3054, 3363, 'Skills'), (2333, 2341, 'Companies w...\". Use `spacy.training.offsets_to_biluo_tags(nlp.make_doc(text), entities)` to check the alignment. Misaligned entities ('-') will be ignored during training.\n",
            "  warnings.warn(\n"
          ]
        },
        {
          "output_type": "stream",
          "name": "stdout",
          "text": [
            "{'ner': 11278.047437830175}\n"
          ]
        },
        {
          "output_type": "stream",
          "name": "stderr",
          "text": [
            "/usr/local/lib/python3.9/dist-packages/spacy/training/iob_utils.py:149: UserWarning: [W030] Some entities could not be aligned in the text \"Vineeth Vijayan \"Store Executive\" - Orange City Ho...\" with entities \"[(6994, 7350, 'Skills'), (6936, 6973, 'College Nam...\". Use `spacy.training.offsets_to_biluo_tags(nlp.make_doc(text), entities)` to check the alignment. Misaligned entities ('-') will be ignored during training.\n",
            "  warnings.warn(\n"
          ]
        },
        {
          "output_type": "stream",
          "name": "stdout",
          "text": [
            "{'ner': 11290.171014238165}\n",
            "{'ner': 11308.654468346851}\n",
            "{'ner': 11317.010239127914}\n"
          ]
        },
        {
          "output_type": "stream",
          "name": "stderr",
          "text": [
            "/usr/local/lib/python3.9/dist-packages/spacy/training/iob_utils.py:149: UserWarning: [W030] Some entities could not be aligned in the text \"Shrinidhi Selva Kumar NOC and QA Engineer at Skava...\" with entities \"[(757, 761, 'Graduation Year'), (702, 750, 'Colleg...\". Use `spacy.training.offsets_to_biluo_tags(nlp.make_doc(text), entities)` to check the alignment. Misaligned entities ('-') will be ignored during training.\n",
            "  warnings.warn(\n",
            "/usr/local/lib/python3.9/dist-packages/spacy/training/iob_utils.py:149: UserWarning: [W030] Some entities could not be aligned in the text \"Anand S Bangalore, Karnataka - Email me on Indeed:...\" with entities \"[(211, 441, 'Skills'), (182, 193, 'College Name'),...\". Use `spacy.training.offsets_to_biluo_tags(nlp.make_doc(text), entities)` to check the alignment. Misaligned entities ('-') will be ignored during training.\n",
            "  warnings.warn(\n",
            "/usr/local/lib/python3.9/dist-packages/spacy/training/iob_utils.py:149: UserWarning: [W030] Some entities could not be aligned in the text \"Shabnam Saba Offshore SAP CRM Functional Consultan...\" with entities \"[(3347, 3474, 'Skills'), (3333, 3337, 'Graduation ...\". Use `spacy.training.offsets_to_biluo_tags(nlp.make_doc(text), entities)` to check the alignment. Misaligned entities ('-') will be ignored during training.\n",
            "  warnings.warn(\n"
          ]
        },
        {
          "output_type": "stream",
          "name": "stdout",
          "text": [
            "{'ner': 11363.4366605318}\n",
            "{'ner': 11367.849604263323}\n"
          ]
        },
        {
          "output_type": "stream",
          "name": "stderr",
          "text": [
            "/usr/local/lib/python3.9/dist-packages/spacy/training/iob_utils.py:149: UserWarning: [W030] Some entities could not be aligned in the text \"Arpit Godha Senior Process Executive  Jaipur, Raja...\" with entities \"[(3144, 3495, 'Skills'), (3081, 3104, 'College Nam...\". Use `spacy.training.offsets_to_biluo_tags(nlp.make_doc(text), entities)` to check the alignment. Misaligned entities ('-') will be ignored during training.\n",
            "  warnings.warn(\n",
            "/usr/local/lib/python3.9/dist-packages/spacy/training/iob_utils.py:149: UserWarning: [W030] Some entities could not be aligned in the text \"Ramkrishan Bhatt python developer  Bengaluru, Karn...\" with entities \"[(1439, 1468, 'College Name'), (1434, 1437, 'Degre...\". Use `spacy.training.offsets_to_biluo_tags(nlp.make_doc(text), entities)` to check the alignment. Misaligned entities ('-') will be ignored during training.\n",
            "  warnings.warn(\n"
          ]
        },
        {
          "output_type": "stream",
          "name": "stdout",
          "text": [
            "{'ner': 11380.266894031825}\n"
          ]
        },
        {
          "output_type": "stream",
          "name": "stderr",
          "text": [
            "/usr/local/lib/python3.9/dist-packages/spacy/training/iob_utils.py:149: UserWarning: [W030] Some entities could not be aligned in the text \"Mohammed Murtuza Major Incident Manager / Escalati...\" with entities \"[(7924, 8040, 'Skills'), (7872, 7891, 'College Nam...\". Use `spacy.training.offsets_to_biluo_tags(nlp.make_doc(text), entities)` to check the alignment. Misaligned entities ('-') will be ignored during training.\n",
            "  warnings.warn(\n"
          ]
        },
        {
          "output_type": "stream",
          "name": "stdout",
          "text": [
            "{'ner': 11389.884772502646}\n",
            "{'ner': 11417.829371184143}\n"
          ]
        },
        {
          "output_type": "stream",
          "name": "stderr",
          "text": [
            "/usr/local/lib/python3.9/dist-packages/spacy/training/iob_utils.py:149: UserWarning: [W030] Some entities could not be aligned in the text \"Sai Vivek Venkatraman Decisive, Data driven and re...\" with entities \"[(5105, 5109, 'Graduation Year'), (5043, 5095, 'Co...\". Use `spacy.training.offsets_to_biluo_tags(nlp.make_doc(text), entities)` to check the alignment. Misaligned entities ('-') will be ignored during training.\n",
            "  warnings.warn(\n",
            "/usr/local/lib/python3.9/dist-packages/spacy/training/iob_utils.py:149: UserWarning: [W030] Some entities could not be aligned in the text \"Nitin Tr PeopleSoft Consultant  Bangalore Urban, K...\" with entities \"[(3511, 3749, 'Skills'), (3313, 3364, 'Skills'), (...\". Use `spacy.training.offsets_to_biluo_tags(nlp.make_doc(text), entities)` to check the alignment. Misaligned entities ('-') will be ignored during training.\n",
            "  warnings.warn(\n",
            "/usr/local/lib/python3.9/dist-packages/spacy/training/iob_utils.py:149: UserWarning: [W030] Some entities could not be aligned in the text \"Ramesh HP CES ASSOCIATE CONSULTANT  Bangalore, Kar...\" with entities \"[(2668, 2945, 'Skills'), (2618, 2638, 'College Nam...\". Use `spacy.training.offsets_to_biluo_tags(nlp.make_doc(text), entities)` to check the alignment. Misaligned entities ('-') will be ignored during training.\n",
            "  warnings.warn(\n"
          ]
        },
        {
          "output_type": "stream",
          "name": "stdout",
          "text": [
            "{'ner': 11483.120047271284}\n",
            "{'ner': 11599.274459809098}\n"
          ]
        },
        {
          "output_type": "stream",
          "name": "stderr",
          "text": [
            "/usr/local/lib/python3.9/dist-packages/spacy/training/iob_utils.py:149: UserWarning: [W030] Some entities could not be aligned in the text \"Koushik Katta Devops  Hyderabad, Telangana - Email...\" with entities \"[(2957, 3074, 'Skills'), (2943, 2948, 'Graduation ...\". Use `spacy.training.offsets_to_biluo_tags(nlp.make_doc(text), entities)` to check the alignment. Misaligned entities ('-') will be ignored during training.\n",
            "  warnings.warn(\n",
            "/usr/local/lib/python3.9/dist-packages/spacy/training/iob_utils.py:149: UserWarning: [W030] Some entities could not be aligned in the text \"Kandrapu Reddy Senior Travel Operations (Domestic,...\" with entities \"[(4232, 4330, 'Skills'), (4058, 4101, 'Degree'), (...\". Use `spacy.training.offsets_to_biluo_tags(nlp.make_doc(text), entities)` to check the alignment. Misaligned entities ('-') will be ignored during training.\n",
            "  warnings.warn(\n"
          ]
        },
        {
          "output_type": "stream",
          "name": "stdout",
          "text": [
            "{'ner': 11612.470038720894}\n",
            "{'ner': 11828.286746033955}\n"
          ]
        },
        {
          "output_type": "stream",
          "name": "stderr",
          "text": [
            "/usr/local/lib/python3.9/dist-packages/spacy/training/iob_utils.py:149: UserWarning: [W030] Some entities could not be aligned in the text \"Pankaj Bhosale Microsoft SQL-SERVER  Dhule, Mahara...\" with entities \"[(1482, 1487, 'Location'), (1369, 1413, 'Email Add...\". Use `spacy.training.offsets_to_biluo_tags(nlp.make_doc(text), entities)` to check the alignment. Misaligned entities ('-') will be ignored during training.\n",
            "  warnings.warn(\n",
            "/usr/local/lib/python3.9/dist-packages/spacy/training/iob_utils.py:149: UserWarning: [W030] Some entities could not be aligned in the text \"Pulkit Saxena New Delhi, Delhi - Email me on Indee...\" with entities \"[(3673, 4270, 'Skills'), (3497, 3502, 'Companies w...\". Use `spacy.training.offsets_to_biluo_tags(nlp.make_doc(text), entities)` to check the alignment. Misaligned entities ('-') will be ignored during training.\n",
            "  warnings.warn(\n"
          ]
        },
        {
          "output_type": "stream",
          "name": "stdout",
          "text": [
            "{'ner': 11935.222334721613}\n",
            "{'ner': 12003.399456971812}\n"
          ]
        },
        {
          "output_type": "stream",
          "name": "stderr",
          "text": [
            "/usr/local/lib/python3.9/dist-packages/spacy/training/iob_utils.py:149: UserWarning: [W030] Some entities could not be aligned in the text \"Jitendra Babu FI/CO Consultant in Tech Mahindra - ...\" with entities \"[(5510, 5514, 'Graduation Year'), (5481, 5508, 'Co...\". Use `spacy.training.offsets_to_biluo_tags(nlp.make_doc(text), entities)` to check the alignment. Misaligned entities ('-') will be ignored during training.\n",
            "  warnings.warn(\n",
            "/usr/local/lib/python3.9/dist-packages/spacy/training/iob_utils.py:149: UserWarning: [W030] Some entities could not be aligned in the text \"Dilliraja Baskaran Tamil Nadu - Email me on Indeed...\" with entities \"[(363, 411, 'Email Address'), (314, 349, 'Skills')...\". Use `spacy.training.offsets_to_biluo_tags(nlp.make_doc(text), entities)` to check the alignment. Misaligned entities ('-') will be ignored during training.\n",
            "  warnings.warn(\n"
          ]
        },
        {
          "output_type": "stream",
          "name": "stdout",
          "text": [
            "{'ner': 12011.840428323201}\n",
            "{'ner': 12018.617334044275}\n",
            "{'ner': 12028.514213623095}\n"
          ]
        },
        {
          "output_type": "stream",
          "name": "stderr",
          "text": [
            "/usr/local/lib/python3.9/dist-packages/spacy/training/iob_utils.py:149: UserWarning: [W030] Some entities could not be aligned in the text \"Laya A Cluster HR Manager - Velammal New  Chennai,...\" with entities \"[(3758, 4638, 'Skills'), (3725, 3742, 'College Nam...\". Use `spacy.training.offsets_to_biluo_tags(nlp.make_doc(text), entities)` to check the alignment. Misaligned entities ('-') will be ignored during training.\n",
            "  warnings.warn(\n",
            "/usr/local/lib/python3.9/dist-packages/spacy/training/iob_utils.py:149: UserWarning: [W030] Some entities could not be aligned in the text \"Syed Sadath ali Coimbatore - Email me on Indeed: i...\" with entities \"[(221, 246, 'Skills'), (206, 211, 'College Name'),...\". Use `spacy.training.offsets_to_biluo_tags(nlp.make_doc(text), entities)` to check the alignment. Misaligned entities ('-') will be ignored during training.\n",
            "  warnings.warn(\n",
            "/usr/local/lib/python3.9/dist-packages/spacy/training/iob_utils.py:149: UserWarning: [W030] Some entities could not be aligned in the text \"pradeep chauhan pradeep chauhan  Noida, Uttar Prad...\" with entities \"[(332, 337, 'Location'), (296, 329, 'College Name'...\". Use `spacy.training.offsets_to_biluo_tags(nlp.make_doc(text), entities)` to check the alignment. Misaligned entities ('-') will be ignored during training.\n",
            "  warnings.warn(\n"
          ]
        },
        {
          "output_type": "stream",
          "name": "stdout",
          "text": [
            "{'ner': 12040.100951892877}\n"
          ]
        },
        {
          "output_type": "stream",
          "name": "stderr",
          "text": [
            "/usr/local/lib/python3.9/dist-packages/spacy/training/iob_utils.py:149: UserWarning: [W030] Some entities could not be aligned in the text \"Suman Biswas SAP UI5 Lead, Native HANA Developer -...\" with entities \"[(5053, 5059, 'Companies worked at'), (5013, 5019,...\". Use `spacy.training.offsets_to_biluo_tags(nlp.make_doc(text), entities)` to check the alignment. Misaligned entities ('-') will be ignored during training.\n",
            "  warnings.warn(\n",
            "/usr/local/lib/python3.9/dist-packages/spacy/training/iob_utils.py:149: UserWarning: [W030] Some entities could not be aligned in the text \"K. Siddharth System Administrator (Server) Microso...\" with entities \"[(1826, 1843, 'Location'), (1791, 1823, 'College N...\". Use `spacy.training.offsets_to_biluo_tags(nlp.make_doc(text), entities)` to check the alignment. Misaligned entities ('-') will be ignored during training.\n",
            "  warnings.warn(\n"
          ]
        },
        {
          "output_type": "stream",
          "name": "stdout",
          "text": [
            "{'ner': 12171.58594481423}\n",
            "{'ner': 12190.503328441879}\n",
            "{'ner': 12206.687724122781}\n"
          ]
        },
        {
          "output_type": "stream",
          "name": "stderr",
          "text": [
            "/usr/local/lib/python3.9/dist-packages/spacy/training/iob_utils.py:149: UserWarning: [W030] Some entities could not be aligned in the text \"Gunjan Nayyar Hoshiarpur, Punjab - Email me on Ind...\" with entities \"[(1234, 1277, 'Email Address'), (1146, 1150, 'Grad...\". Use `spacy.training.offsets_to_biluo_tags(nlp.make_doc(text), entities)` to check the alignment. Misaligned entities ('-') will be ignored during training.\n",
            "  warnings.warn(\n",
            "/usr/local/lib/python3.9/dist-packages/spacy/training/iob_utils.py:149: UserWarning: [W030] Some entities could not be aligned in the text \"Vikas Singh Chandigarh, Chandigarh - Email me on I...\" with entities \"[(5347, 5750, 'Skills'), (5333, 5337, 'Graduation ...\". Use `spacy.training.offsets_to_biluo_tags(nlp.make_doc(text), entities)` to check the alignment. Misaligned entities ('-') will be ignored during training.\n",
            "  warnings.warn(\n"
          ]
        },
        {
          "output_type": "stream",
          "name": "stdout",
          "text": [
            "{'ner': 12232.365492688248}\n",
            "{'ner': 12253.273531797331}\n",
            "{'ner': 12261.952347089433}\n"
          ]
        },
        {
          "output_type": "stream",
          "name": "stderr",
          "text": [
            "/usr/local/lib/python3.9/dist-packages/spacy/training/iob_utils.py:149: UserWarning: [W030] Some entities could not be aligned in the text \"Ijas Nizamuddin Associate Consultant - State Stree...\" with entities \"[(4652, 4850, 'Skills'), (4607, 4612, 'Graduation ...\". Use `spacy.training.offsets_to_biluo_tags(nlp.make_doc(text), entities)` to check the alignment. Misaligned entities ('-') will be ignored during training.\n",
            "  warnings.warn(\n"
          ]
        },
        {
          "output_type": "stream",
          "name": "stdout",
          "text": [
            "{'ner': 12289.373476884442}\n",
            "{'ner': 12302.921099752864}\n",
            "{'ner': 12309.421666292936}\n"
          ]
        },
        {
          "output_type": "stream",
          "name": "stderr",
          "text": [
            "/usr/local/lib/python3.9/dist-packages/spacy/training/iob_utils.py:149: UserWarning: [W030] Some entities could not be aligned in the text \"Gaurav Soni New Delhi, Delhi - Email me on Indeed:...\" with entities \"[(1089, 1239, 'Skills'), (921, 1063, 'Skills'), (9...\". Use `spacy.training.offsets_to_biluo_tags(nlp.make_doc(text), entities)` to check the alignment. Misaligned entities ('-') will be ignored during training.\n",
            "  warnings.warn(\n",
            "/usr/local/lib/python3.9/dist-packages/spacy/training/iob_utils.py:149: UserWarning: [W030] Some entities could not be aligned in the text \"Shraddha Achar Mathura, Uttar Pradesh - Email me o...\" with entities \"[(975, 1020, 'Skills'), (814, 843, 'College Name')...\". Use `spacy.training.offsets_to_biluo_tags(nlp.make_doc(text), entities)` to check the alignment. Misaligned entities ('-') will be ignored during training.\n",
            "  warnings.warn(\n",
            "/usr/local/lib/python3.9/dist-packages/spacy/training/iob_utils.py:149: UserWarning: [W030] Some entities could not be aligned in the text \"Soumya Balan Soumya Balan - BE Computer Science - ...\" with entities \"[(3036, 3040, 'Graduation Year'), (2717, 2959, 'Sk...\". Use `spacy.training.offsets_to_biluo_tags(nlp.make_doc(text), entities)` to check the alignment. Misaligned entities ('-') will be ignored during training.\n",
            "  warnings.warn(\n"
          ]
        },
        {
          "output_type": "stream",
          "name": "stdout",
          "text": [
            "{'ner': 12409.331938831598}\n",
            "{'ner': 12436.855320627168}\n"
          ]
        },
        {
          "output_type": "stream",
          "name": "stderr",
          "text": [
            "/usr/local/lib/python3.9/dist-packages/spacy/training/iob_utils.py:149: UserWarning: [W030] Some entities could not be aligned in the text \"Madhuri Sripathi Banglore, Karnataka, Karnataka - ...\" with entities \"[(4563, 4747, 'Skills'), (4538, 4552, 'College Nam...\". Use `spacy.training.offsets_to_biluo_tags(nlp.make_doc(text), entities)` to check the alignment. Misaligned entities ('-') will be ignored during training.\n",
            "  warnings.warn(\n",
            "/usr/local/lib/python3.9/dist-packages/spacy/training/iob_utils.py:149: UserWarning: [W030] Some entities could not be aligned in the text \"Imgeeyaul Ansari java developer  Pune, Maharashtra...\" with entities \"[(1894, 2173, 'Skills'), (1726, 1851, 'Skills'), (...\". Use `spacy.training.offsets_to_biluo_tags(nlp.make_doc(text), entities)` to check the alignment. Misaligned entities ('-') will be ignored during training.\n",
            "  warnings.warn(\n"
          ]
        },
        {
          "output_type": "stream",
          "name": "stdout",
          "text": [
            "{'ner': 12454.90821211461}\n",
            "{'ner': 12522.864050029708}\n"
          ]
        },
        {
          "output_type": "stream",
          "name": "stderr",
          "text": [
            "/usr/local/lib/python3.9/dist-packages/spacy/training/iob_utils.py:149: UserWarning: [W030] Some entities could not be aligned in the text \"Ravi Shankar Working as Escalation Engineer with M...\" with entities \"[(4016, 4025, 'Companies worked at'), (3941, 3950,...\". Use `spacy.training.offsets_to_biluo_tags(nlp.make_doc(text), entities)` to check the alignment. Misaligned entities ('-') will be ignored during training.\n",
            "  warnings.warn(\n",
            "/usr/local/lib/python3.9/dist-packages/spacy/training/iob_utils.py:149: UserWarning: [W030] Some entities could not be aligned in the text \"Ahmad Bardolia Project Lead for Infosys OpenStack ...\" with entities \"[(3827, 4016, 'Skills'), (3809, 3817, 'Degree'), (...\". Use `spacy.training.offsets_to_biluo_tags(nlp.make_doc(text), entities)` to check the alignment. Misaligned entities ('-') will be ignored during training.\n",
            "  warnings.warn(\n"
          ]
        },
        {
          "output_type": "stream",
          "name": "stdout",
          "text": [
            "{'ner': 12536.919615474097}\n",
            "{'ner': 12550.353735801067}\n",
            "{'ner': 12568.106308043747}\n"
          ]
        },
        {
          "output_type": "stream",
          "name": "stderr",
          "text": [
            "/usr/local/lib/python3.9/dist-packages/spacy/training/iob_utils.py:149: UserWarning: [W030] Some entities could not be aligned in the text \"VARUN AHLUWALIA Quantitative Analyst  - Email me o...\" with entities \"[(773, 848, 'Skills'), (735, 740, 'Graduation Year...\". Use `spacy.training.offsets_to_biluo_tags(nlp.make_doc(text), entities)` to check the alignment. Misaligned entities ('-') will be ignored during training.\n",
            "  warnings.warn(\n",
            "/usr/local/lib/python3.9/dist-packages/spacy/training/iob_utils.py:149: UserWarning: [W030] Some entities could not be aligned in the text \"Navas Koya Test Engineer  Mangalore, Karnataka - E...\" with entities \"[(2110, 2404, 'Skills'), (2055, 2064, 'Location'),...\". Use `spacy.training.offsets_to_biluo_tags(nlp.make_doc(text), entities)` to check the alignment. Misaligned entities ('-') will be ignored during training.\n",
            "  warnings.warn(\n",
            "/usr/local/lib/python3.9/dist-packages/spacy/training/iob_utils.py:149: UserWarning: [W030] Some entities could not be aligned in the text \"Jacob Philip Kottayam, Kerala - Email me on Indeed...\" with entities \"[(2165, 2215, 'Skills'), (2145, 2155, 'Degree'), (...\". Use `spacy.training.offsets_to_biluo_tags(nlp.make_doc(text), entities)` to check the alignment. Misaligned entities ('-') will be ignored during training.\n",
            "  warnings.warn(\n"
          ]
        },
        {
          "output_type": "stream",
          "name": "stdout",
          "text": [
            "{'ner': 12576.918188314023}\n",
            "{'ner': 12590.253150830868}\n"
          ]
        },
        {
          "output_type": "stream",
          "name": "stderr",
          "text": [
            "/usr/local/lib/python3.9/dist-packages/spacy/training/iob_utils.py:149: UserWarning: [W030] Some entities could not be aligned in the text \"Yogesh Ghatole Engineer / Electrical Supervisor, S...\" with entities \"[(2912, 3288, 'Skills'), (2721, 2726, 'UNKNOWN'), ...\". Use `spacy.training.offsets_to_biluo_tags(nlp.make_doc(text), entities)` to check the alignment. Misaligned entities ('-') will be ignored during training.\n",
            "  warnings.warn(\n",
            "/usr/local/lib/python3.9/dist-packages/spacy/training/iob_utils.py:149: UserWarning: [W030] Some entities could not be aligned in the text \"Anil Kumar Microsoft Azure (Basic Management)  Del...\" with entities \"[(8004, 8009, 'Location'), (7716, 7721, 'Location'...\". Use `spacy.training.offsets_to_biluo_tags(nlp.make_doc(text), entities)` to check the alignment. Misaligned entities ('-') will be ignored during training.\n",
            "  warnings.warn(\n"
          ]
        },
        {
          "output_type": "stream",
          "name": "stdout",
          "text": [
            "{'ner': 12613.410891252213}\n",
            "{'ner': 12631.71404052423}\n",
            "{'ner': 12655.60175302216}\n",
            "Statring iteration 1\n"
          ]
        },
        {
          "output_type": "stream",
          "name": "stderr",
          "text": [
            "/usr/local/lib/python3.9/dist-packages/spacy/training/iob_utils.py:149: UserWarning: [W030] Some entities could not be aligned in the text \"Kiran Kumar I Having 2.1 years of Experience in IT...\" with entities \"[(1403, 1487, 'Skills'), (1351, 1393, 'College Nam...\". Use `spacy.training.offsets_to_biluo_tags(nlp.make_doc(text), entities)` to check the alignment. Misaligned entities ('-') will be ignored during training.\n",
            "  warnings.warn(\n",
            "/usr/local/lib/python3.9/dist-packages/spacy/training/iob_utils.py:149: UserWarning: [W030] Some entities could not be aligned in the text \"Pavithra M \"Infosys\" internship  Bengaluru, Karnat...\" with entities \"[(998, 1038, 'Email Address'), (611, 984, 'Skills'...\". Use `spacy.training.offsets_to_biluo_tags(nlp.make_doc(text), entities)` to check the alignment. Misaligned entities ('-') will be ignored during training.\n",
            "  warnings.warn(\n"
          ]
        },
        {
          "output_type": "stream",
          "name": "stdout",
          "text": [
            "{'ner': 12.235607916076333}\n",
            "{'ner': 23.334852832914294}\n",
            "{'ner': 28.729755638354824}\n",
            "{'ner': 43.7147669637337}\n",
            "{'ner': 52.7213443041059}\n",
            "{'ner': 71.75102253435087}\n",
            "{'ner': 83.79365377240472}\n",
            "{'ner': 110.38562494727674}\n",
            "{'ner': 124.99026967127605}\n",
            "{'ner': 130.5629460072405}\n",
            "{'ner': 450.4261322474367}\n",
            "{'ner': 453.8393156256874}\n",
            "{'ner': 819.1718945420229}\n",
            "{'ner': 835.695709062123}\n",
            "{'ner': 851.7847719883338}\n",
            "{'ner': 874.4576916569985}\n",
            "{'ner': 880.0720675790111}\n",
            "{'ner': 889.2439864788905}\n",
            "{'ner': 892.9782866357647}\n",
            "{'ner': 926.2039961951606}\n",
            "{'ner': 957.0475380985819}\n",
            "{'ner': 970.0746288207654}\n",
            "{'ner': 984.309908380749}\n",
            "{'ner': 990.5150163075264}\n",
            "{'ner': 1019.7720754178549}\n",
            "{'ner': 1033.8714275365953}\n",
            "{'ner': 1036.3314350387586}\n",
            "{'ner': 1055.5615512929398}\n",
            "{'ner': 1096.1781722652977}\n",
            "{'ner': 1134.9741469429987}\n",
            "{'ner': 1146.1774462247106}\n",
            "{'ner': 1154.6234116877984}\n",
            "{'ner': 1165.4016490820238}\n",
            "{'ner': 1203.6493579258172}\n",
            "{'ner': 1215.656787954486}\n",
            "{'ner': 1220.4706830282662}\n",
            "{'ner': 1261.5486765751625}\n",
            "{'ner': 1287.408427416914}\n",
            "{'ner': 1308.0420301352378}\n",
            "{'ner': 1329.2692534351413}\n",
            "{'ner': 1338.6399210572931}\n",
            "{'ner': 1348.478060962137}\n",
            "{'ner': 1356.4410023712257}\n",
            "{'ner': 1365.5401030239077}\n",
            "{'ner': 1382.9915854769295}\n",
            "{'ner': 1391.0071564022262}\n",
            "{'ner': 1395.5044807532147}\n",
            "{'ner': 1401.7752605246815}\n",
            "{'ner': 1415.4510409474015}\n",
            "{'ner': 1423.1359438723175}\n",
            "{'ner': 1437.2392488050434}\n",
            "{'ner': 1447.6989865883345}\n",
            "{'ner': 1472.6480155026636}\n",
            "{'ner': 1507.3867355135424}\n",
            "{'ner': 1515.3854659873052}\n",
            "{'ner': 1522.75904691958}\n",
            "{'ner': 1531.006662291043}\n",
            "{'ner': 1537.1207577445005}\n",
            "{'ner': 1550.16254084421}\n",
            "{'ner': 1563.0865442314566}\n",
            "{'ner': 1577.8885522810156}\n",
            "{'ner': 1608.3271615262233}\n",
            "{'ner': 1618.3449252801295}\n",
            "{'ner': 1653.2300992769192}\n",
            "{'ner': 1655.5667023345532}\n",
            "{'ner': 1673.9604233684158}\n",
            "{'ner': 1684.4736837605649}\n",
            "{'ner': 1689.8261105072424}\n",
            "{'ner': 1720.180607626372}\n",
            "{'ner': 1737.8365709684897}\n",
            "{'ner': 1765.514882602981}\n",
            "{'ner': 1778.8536619401632}\n",
            "{'ner': 1787.7482954328711}\n",
            "{'ner': 1794.9682990594229}\n",
            "{'ner': 1811.398342962068}\n",
            "{'ner': 1823.5063341742184}\n",
            "{'ner': 1879.4204442893183}\n",
            "{'ner': 1904.4133956872324}\n",
            "{'ner': 1936.0183788449817}\n",
            "{'ner': 1956.1500467132373}\n",
            "{'ner': 1960.5644778800483}\n",
            "{'ner': 1965.0458808715468}\n",
            "{'ner': 1988.97478772003}\n",
            "{'ner': 2021.0487325771612}\n",
            "{'ner': 2029.7455039939439}\n",
            "{'ner': 2034.455227033954}\n",
            "{'ner': 2041.4202972135886}\n",
            "{'ner': 2053.532993866079}\n",
            "{'ner': 2070.8125837534667}\n",
            "{'ner': 2086.0653682353445}\n",
            "{'ner': 2110.6342064735895}\n",
            "{'ner': 2118.3303651612896}\n",
            "{'ner': 2143.4508549896955}\n",
            "{'ner': 2151.872535981031}\n",
            "{'ner': 2277.64485532387}\n",
            "{'ner': 2300.77164528711}\n",
            "{'ner': 2309.540606199308}\n",
            "{'ner': 2353.8151892123133}\n",
            "{'ner': 2360.4636161879835}\n",
            "{'ner': 2369.459944328911}\n",
            "{'ner': 2391.751346421082}\n",
            "{'ner': 2435.920868140652}\n",
            "{'ner': 2614.924227398827}\n",
            "{'ner': 2636.0369990221266}\n",
            "{'ner': 2676.87362287606}\n",
            "{'ner': 2686.09144390626}\n",
            "{'ner': 2715.3513308697457}\n",
            "{'ner': 2720.5599878817093}\n",
            "{'ner': 2755.800985547693}\n",
            "{'ner': 2766.411318186646}\n",
            "{'ner': 2779.8005529160446}\n",
            "{'ner': 2832.283060298092}\n",
            "{'ner': 2852.0991260882415}\n",
            "{'ner': 2871.9189223074004}\n",
            "{'ner': 2895.937379760051}\n",
            "{'ner': 2912.0578994485677}\n",
            "{'ner': 2921.323785105439}\n",
            "{'ner': 2933.4279098769266}\n",
            "{'ner': 2945.313037528312}\n",
            "{'ner': 2959.943727874785}\n",
            "{'ner': 2965.7557391896617}\n",
            "{'ner': 2977.0799407715413}\n",
            "{'ner': 3002.939968992765}\n",
            "{'ner': 3011.7909764383103}\n",
            "{'ner': 3027.6047493715514}\n",
            "{'ner': 3156.0145065344946}\n",
            "{'ner': 3170.043922428707}\n",
            "{'ner': 3186.513434076498}\n",
            "{'ner': 3208.5879158312946}\n",
            "{'ner': 3235.307973299793}\n",
            "{'ner': 3249.5665368722143}\n",
            "{'ner': 3264.7084231495587}\n",
            "{'ner': 3269.120426571184}\n",
            "{'ner': 3281.2305744431696}\n",
            "{'ner': 3291.193385965593}\n",
            "{'ner': 3300.446187574847}\n",
            "{'ner': 3309.795988775159}\n",
            "{'ner': 3318.3706941061937}\n",
            "{'ner': 3505.7714374687816}\n",
            "Statring iteration 2\n",
            "{'ner': 23.57800350759988}\n",
            "{'ner': 34.343122160132665}\n",
            "{'ner': 48.21888305797172}\n",
            "{'ner': 74.94720229012735}\n",
            "{'ner': 115.19926737520571}\n",
            "{'ner': 135.13460250433545}\n",
            "{'ner': 137.3802576907672}\n",
            "{'ner': 153.07089076305854}\n",
            "{'ner': 191.76621199184902}\n",
            "{'ner': 234.20097340455268}\n",
            "{'ner': 242.3354306034106}\n",
            "{'ner': 288.2675637393785}\n",
            "{'ner': 364.17620481507026}\n",
            "{'ner': 370.0073322017946}\n",
            "{'ner': 381.95636746010797}\n",
            "{'ner': 499.1330667110445}\n",
            "{'ner': 508.5288670185925}\n",
            "{'ner': 842.5088133934858}\n",
            "{'ner': 847.2213733828072}\n",
            "{'ner': 864.2263195897391}\n",
            "{'ner': 874.0806889259632}\n",
            "{'ner': 918.2149506285882}\n",
            "{'ner': 943.8039047129412}\n",
            "{'ner': 949.3060371155843}\n",
            "{'ner': 965.4748923433192}\n",
            "{'ner': 978.0141061194181}\n",
            "{'ner': 983.6425290786384}\n",
            "{'ner': 1010.3497018158329}\n",
            "{'ner': 1019.1309783946734}\n",
            "{'ner': 1029.481290996286}\n",
            "{'ner': 1047.8841343122874}\n",
            "{'ner': 1053.126253193818}\n",
            "{'ner': 1077.6681190068255}\n",
            "{'ner': 1084.4224165390858}\n",
            "{'ner': 1096.7654424783666}\n",
            "{'ner': 1112.8487263656116}\n",
            "{'ner': 1127.7700910062686}\n",
            "{'ner': 1140.2208862070302}\n",
            "{'ner': 1143.3395079988481}\n",
            "{'ner': 1173.1120927506042}\n",
            "{'ner': 1187.5933496901296}\n",
            "{'ner': 1195.185378529511}\n",
            "{'ner': 1198.176826418353}\n",
            "{'ner': 1207.5597117991624}\n",
            "{'ner': 1213.9759156194114}\n",
            "{'ner': 1225.4180467300066}\n",
            "{'ner': 1229.2172749994547}\n",
            "{'ner': 1249.1361772504008}\n",
            "{'ner': 1269.6892936383554}\n",
            "{'ner': 1278.0131657684635}\n",
            "{'ner': 1297.5227035656374}\n",
            "{'ner': 1331.2676877573176}\n",
            "{'ner': 1358.8708545436355}\n",
            "{'ner': 1388.4261642161516}\n",
            "{'ner': 1410.714100107637}\n",
            "{'ner': 1418.967887867839}\n",
            "{'ner': 1444.7735689052504}\n",
            "{'ner': 1453.569079301823}\n",
            "{'ner': 1458.9708697372425}\n",
            "{'ner': 1582.2077084644352}\n",
            "{'ner': 1622.8597450817867}\n",
            "{'ner': 1640.563965662863}\n",
            "{'ner': 1648.9532745396762}\n",
            "{'ner': 1662.777615173871}\n",
            "{'ner': 1686.2087344936792}\n",
            "{'ner': 1696.5587159670267}\n",
            "{'ner': 1702.165749829102}\n",
            "{'ner': 1708.6992948287782}\n",
            "{'ner': 1757.3065339440054}\n",
            "{'ner': 1773.1554425417514}\n",
            "{'ner': 1782.8665414869026}\n",
            "{'ner': 1795.9013347568555}\n",
            "{'ner': 1824.4512759569184}\n",
            "{'ner': 1827.0687760358594}\n",
            "{'ner': 1866.3274899010837}\n",
            "{'ner': 1873.7720569455}\n",
            "{'ner': 1879.0082803394212}\n",
            "{'ner': 1885.9644603875668}\n",
            "{'ner': 1941.6619220708747}\n",
            "{'ner': 2136.2857167159455}\n",
            "{'ner': 2180.545847139998}\n",
            "{'ner': 2188.9640991448123}\n",
            "{'ner': 2196.967370236509}\n",
            "{'ner': 2213.2167264132054}\n",
            "{'ner': 2214.7239591429675}\n",
            "{'ner': 2230.029652468814}\n",
            "{'ner': 2250.4061926263876}\n",
            "{'ner': 2254.4663537133747}\n",
            "{'ner': 2262.5396737015753}\n",
            "{'ner': 2282.5474835901505}\n",
            "{'ner': 2290.456083458106}\n",
            "{'ner': 2296.1015363119313}\n",
            "{'ner': 2303.286664761312}\n",
            "{'ner': 2306.917179530242}\n",
            "{'ner': 2330.733902455933}\n",
            "{'ner': 2371.303765789697}\n",
            "{'ner': 2379.224755203063}\n",
            "{'ner': 2396.671704623942}\n",
            "{'ner': 2411.521291461466}\n",
            "{'ner': 2426.711563694932}\n",
            "{'ner': 2434.2029833687047}\n",
            "{'ner': 2485.3398911261975}\n",
            "{'ner': 2492.444954095544}\n",
            "{'ner': 2499.731529787535}\n",
            "{'ner': 2510.705276966243}\n",
            "{'ner': 2523.4655473520975}\n",
            "{'ner': 2557.791812509891}\n",
            "{'ner': 2568.305322802908}\n",
            "{'ner': 2604.966463997162}\n",
            "{'ner': 2624.672642070834}\n",
            "{'ner': 2633.159969791867}\n",
            "{'ner': 2657.4003371106332}\n",
            "{'ner': 2687.968493392018}\n",
            "{'ner': 2702.427087184911}\n",
            "{'ner': 2708.9040053951003}\n",
            "{'ner': 2720.694686216091}\n",
            "{'ner': 2724.7654789949243}\n",
            "{'ner': 2734.432338932114}\n",
            "{'ner': 2744.818905149541}\n",
            "{'ner': 2750.368009120374}\n",
            "{'ner': 2754.752216502236}\n",
            "{'ner': 2762.2363878526985}\n",
            "{'ner': 2770.4100870565712}\n",
            "{'ner': 2773.0280522216876}\n",
            "{'ner': 2778.7596568937347}\n",
            "{'ner': 2828.535664256971}\n",
            "{'ner': 2879.916852351587}\n",
            "{'ner': 2905.591381126618}\n",
            "{'ner': 2916.9704382621685}\n",
            "{'ner': 2934.2690917945847}\n",
            "{'ner': 2958.492978966768}\n",
            "{'ner': 2959.621723326851}\n",
            "{'ner': 2971.9392499540195}\n",
            "{'ner': 2982.778865862254}\n",
            "{'ner': 2994.9451855793977}\n",
            "{'ner': 2997.9044738353723}\n",
            "{'ner': 3004.205985439728}\n",
            "{'ner': 3006.296500184517}\n",
            "Statring iteration 3\n",
            "{'ner': 37.62382121648625}\n",
            "{'ner': 45.454304795215535}\n",
            "{'ner': 73.36964056362493}\n",
            "{'ner': 108.4145648950454}\n",
            "{'ner': 121.50725696115765}\n",
            "{'ner': 126.14664694005526}\n",
            "{'ner': 143.20726952510424}\n",
            "{'ner': 146.6715223533732}\n",
            "{'ner': 149.0728939057305}\n",
            "{'ner': 149.6273278249689}\n",
            "{'ner': 158.4558294012437}\n",
            "{'ner': 171.92176547139672}\n",
            "{'ner': 187.49344902463883}\n",
            "{'ner': 208.00351219199118}\n",
            "{'ner': 220.51832819731692}\n",
            "{'ner': 251.32640122629152}\n",
            "{'ner': 264.8015525032549}\n",
            "{'ner': 281.7195656759026}\n",
            "{'ner': 294.4799533719259}\n",
            "{'ner': 330.01009707580715}\n",
            "{'ner': 342.00055158855105}\n",
            "{'ner': 347.6892372435428}\n",
            "{'ner': 352.94667326719457}\n",
            "{'ner': 387.1069964124125}\n",
            "{'ner': 390.6015149681208}\n",
            "{'ner': 395.292330211044}\n",
            "{'ner': 403.50762098309593}\n",
            "{'ner': 418.6819829680954}\n",
            "{'ner': 441.7361483141295}\n",
            "{'ner': 464.1110233376249}\n",
            "{'ner': 482.06296006021466}\n",
            "{'ner': 491.4370742006686}\n",
            "{'ner': 517.2273867123562}\n",
            "{'ner': 524.0634993000434}\n",
            "{'ner': 530.2750363830546}\n",
            "{'ner': 553.2474235204893}\n",
            "{'ner': 558.9304227751815}\n",
            "{'ner': 569.8191265691542}\n",
            "{'ner': 574.6228893998635}\n",
            "{'ner': 583.8137277559052}\n",
            "{'ner': 633.2187003280052}\n",
            "{'ner': 640.4578247005016}\n",
            "{'ner': 648.5807734700705}\n",
            "{'ner': 656.1318271538746}\n",
            "{'ner': 664.0782083168372}\n",
            "{'ner': 683.0041008447748}\n",
            "{'ner': 697.5390129502829}\n",
            "{'ner': 724.5790819678178}\n",
            "{'ner': 775.2594759514989}\n",
            "{'ner': 795.4656165075103}\n",
            "{'ner': 796.8524839324491}\n",
            "{'ner': 801.6401679441186}\n",
            "{'ner': 833.9505335842773}\n",
            "{'ner': 845.5623391003891}\n",
            "{'ner': 856.8057248610828}\n",
            "{'ner': 865.2540052910964}\n",
            "{'ner': 885.6880103557291}\n",
            "{'ner': 892.4800919988742}\n",
            "{'ner': 906.0876105027522}\n",
            "{'ner': 928.6824830311728}\n",
            "{'ner': 932.071732143687}\n",
            "{'ner': 940.7815751601515}\n",
            "{'ner': 968.1782138929607}\n",
            "{'ner': 977.3739099709096}\n",
            "{'ner': 989.5371889013668}\n",
            "{'ner': 1004.7375885765823}\n",
            "{'ner': 1008.4272441121697}\n",
            "{'ner': 1018.4135377999212}\n",
            "{'ner': 1028.195908047188}\n",
            "{'ner': 1033.801710434421}\n",
            "{'ner': 1038.7708279565056}\n",
            "{'ner': 1045.8421931494545}\n",
            "{'ner': 1047.8066419629622}\n",
            "{'ner': 1053.2202367834843}\n",
            "{'ner': 1081.4668246434348}\n",
            "{'ner': 1086.4514673304764}\n",
            "{'ner': 1113.8563902728479}\n",
            "{'ner': 1118.6555059935513}\n",
            "{'ner': 1124.3933966823838}\n",
            "{'ner': 1125.7814703355816}\n",
            "{'ner': 1147.3607841203975}\n",
            "{'ner': 1161.2040741527253}\n",
            "{'ner': 1168.5805829044941}\n",
            "{'ner': 1181.050701283702}\n",
            "{'ner': 1185.7321564426165}\n",
            "{'ner': 1197.5509664291114}\n",
            "{'ner': 1240.3124397135168}\n",
            "{'ner': 1250.615193869835}\n",
            "{'ner': 1276.2056381720001}\n",
            "{'ner': 1284.3922010445108}\n",
            "{'ner': 1300.535280968205}\n",
            "{'ner': 1314.5604816844905}\n",
            "{'ner': 1344.5317747005686}\n",
            "{'ner': 1364.7857402340207}\n",
            "{'ner': 1374.5397594268973}\n",
            "{'ner': 1400.4541392958117}\n",
            "{'ner': 1405.650552811966}\n",
            "{'ner': 1419.7268453201102}\n",
            "{'ner': 1450.9245566527934}\n",
            "{'ner': 1454.319500704522}\n",
            "{'ner': 1476.5881590716103}\n",
            "{'ner': 1500.3137254909811}\n",
            "{'ner': 1547.102021228614}\n",
            "{'ner': 1551.3544301912268}\n",
            "{'ner': 1554.4060896825024}\n",
            "{'ner': 1570.323790316373}\n",
            "{'ner': 1577.3505724356344}\n",
            "{'ner': 1585.3673253705124}\n",
            "{'ner': 1590.73924153146}\n",
            "{'ner': 1601.5506556096439}\n",
            "{'ner': 1618.284296051942}\n",
            "{'ner': 1650.6789882658948}\n",
            "{'ner': 1794.3407682581771}\n",
            "{'ner': 1814.1488820245818}\n",
            "{'ner': 1819.897934767043}\n",
            "{'ner': 1832.5902619617073}\n",
            "{'ner': 1841.760827466065}\n",
            "{'ner': 1847.395288427468}\n",
            "{'ner': 1856.659395331862}\n",
            "{'ner': 1883.0326289813122}\n",
            "{'ner': 1896.6307370095108}\n",
            "{'ner': 1907.674937499878}\n",
            "{'ner': 1920.8948203409818}\n",
            "{'ner': 1947.3039468403376}\n",
            "{'ner': 1957.1967260237366}\n",
            "{'ner': 1969.2720137320193}\n",
            "{'ner': 1987.0266450481922}\n",
            "{'ner': 1994.2214673883554}\n",
            "{'ner': 2015.084188681869}\n",
            "{'ner': 2025.778669529893}\n",
            "{'ner': 2041.3621685811597}\n",
            "{'ner': 2101.0612794586164}\n",
            "{'ner': 2103.0695801725506}\n",
            "{'ner': 2105.843811360235}\n",
            "{'ner': 2116.1565385552817}\n",
            "{'ner': 2127.121665393183}\n",
            "{'ner': 2132.945588655594}\n",
            "{'ner': 2152.9570784953758}\n",
            "{'ner': 2280.5313380707157}\n",
            "Statring iteration 4\n",
            "{'ner': 8.1188312835035}\n",
            "{'ner': 21.351749856078698}\n",
            "{'ner': 26.97680124138312}\n",
            "{'ner': 32.97928404411594}\n",
            "{'ner': 47.49196067152023}\n",
            "{'ner': 75.19387288941742}\n",
            "{'ner': 82.03328644265511}\n",
            "{'ner': 94.38293229573443}\n",
            "{'ner': 103.76009675019465}\n",
            "{'ner': 135.80037396984108}\n",
            "{'ner': 160.1800137448299}\n",
            "{'ner': 181.13931073986996}\n",
            "{'ner': 194.78984936255355}\n",
            "{'ner': 204.45819136799136}\n",
            "{'ner': 207.0472555796843}\n",
            "{'ner': 213.975198835531}\n",
            "{'ner': 232.17693408562218}\n",
            "{'ner': 239.35688829271388}\n",
            "{'ner': 245.02388669045968}\n",
            "{'ner': 252.19447994583035}\n",
            "{'ner': 262.4126839507288}\n",
            "{'ner': 263.98939304515943}\n",
            "{'ner': 286.47805484931195}\n",
            "{'ner': 328.64177739069584}\n",
            "{'ner': 334.55983160479474}\n",
            "{'ner': 360.8989312173885}\n",
            "{'ner': 377.8702053429813}\n",
            "{'ner': 379.0847418344004}\n",
            "{'ner': 395.5545616502465}\n",
            "{'ner': 422.5285918461271}\n",
            "{'ner': 427.5985751273142}\n",
            "{'ner': 444.6316329840296}\n",
            "{'ner': 459.4118338356905}\n",
            "{'ner': 488.22942155086275}\n",
            "{'ner': 504.46815552427506}\n",
            "{'ner': 518.9317465570537}\n",
            "{'ner': 532.1532295462004}\n",
            "{'ner': 536.2501614968946}\n",
            "{'ner': 538.7635775498383}\n",
            "{'ner': 551.7192467703833}\n",
            "{'ner': 565.3650166070909}\n",
            "{'ner': 571.2889523961373}\n",
            "{'ner': 575.2923470697306}\n",
            "{'ner': 581.4002418214523}\n",
            "{'ner': 605.4966225342789}\n",
            "{'ner': 614.7061216119295}\n",
            "{'ner': 628.2164695445583}\n",
            "{'ner': 641.3709712786108}\n",
            "{'ner': 647.6922524099227}\n",
            "{'ner': 677.8945825134688}\n",
            "{'ner': 707.1151037625731}\n",
            "{'ner': 710.6476936330107}\n",
            "{'ner': 719.4504493843858}\n",
            "{'ner': 730.72518932849}\n",
            "{'ner': 739.9530412630504}\n",
            "{'ner': 753.7477539959283}\n",
            "{'ner': 756.9841487033488}\n",
            "{'ner': 767.1307564516231}\n",
            "{'ner': 779.9029560581189}\n",
            "{'ner': 784.147936928603}\n",
            "{'ner': 792.8229804416366}\n",
            "{'ner': 823.1728076374504}\n",
            "{'ner': 829.7738323189809}\n",
            "{'ner': 851.1795403054764}\n",
            "{'ner': 877.3945359128167}\n",
            "{'ner': 880.4563670947123}\n",
            "{'ner': 897.3202997204767}\n",
            "{'ner': 913.0935470857457}\n",
            "{'ner': 973.2159770975296}\n",
            "{'ner': 1005.0127703463153}\n",
            "{'ner': 1025.386556674091}\n",
            "{'ner': 1050.0292564228562}\n",
            "{'ner': 1060.8854166536428}\n",
            "{'ner': 1078.084182136692}\n",
            "{'ner': 1093.3061437475044}\n",
            "{'ner': 1106.4455405691679}\n",
            "{'ner': 1126.3298672149733}\n",
            "{'ner': 1142.7411586751386}\n",
            "{'ner': 1148.8938287455587}\n",
            "{'ner': 1163.6653505214729}\n",
            "{'ner': 1170.0868912532676}\n",
            "{'ner': 1173.07839944591}\n",
            "{'ner': 1177.270840140392}\n",
            "{'ner': 1181.24474929588}\n",
            "{'ner': 1199.1334362434482}\n",
            "{'ner': 1203.2892756351823}\n",
            "{'ner': 1209.4956414092462}\n",
            "{'ner': 1225.4175729426613}\n",
            "{'ner': 1230.245707427383}\n",
            "{'ner': 1248.7877178502365}\n",
            "{'ner': 1276.0420828975193}\n",
            "{'ner': 1284.711255930455}\n",
            "{'ner': 1294.5356743572995}\n",
            "{'ner': 1296.8609999135103}\n",
            "{'ner': 1319.1824528254947}\n",
            "{'ner': 1328.527387421775}\n",
            "{'ner': 1332.8998309197218}\n",
            "{'ner': 1347.949035806887}\n",
            "{'ner': 1360.850826763574}\n",
            "{'ner': 1363.1222933305341}\n",
            "{'ner': 1382.995700334646}\n",
            "{'ner': 1387.3544488837522}\n",
            "{'ner': 1397.053415019399}\n",
            "{'ner': 1400.7010805815607}\n",
            "{'ner': 1409.879266151935}\n",
            "{'ner': 1420.0479096458548}\n",
            "{'ner': 1435.192881257433}\n",
            "{'ner': 1439.8807716773233}\n",
            "{'ner': 1442.1235523233402}\n",
            "{'ner': 1455.6470863598274}\n",
            "{'ner': 1458.2119851068364}\n",
            "{'ner': 1470.122168954679}\n",
            "{'ner': 1473.1246069749625}\n",
            "{'ner': 1478.4618152156286}\n",
            "{'ner': 1479.3534509465928}\n",
            "{'ner': 1487.0876398802225}\n",
            "{'ner': 1495.3006085215357}\n",
            "{'ner': 1499.6345710818293}\n",
            "{'ner': 1514.584139583375}\n",
            "{'ner': 1520.4561129561841}\n",
            "{'ner': 1528.4034150669597}\n",
            "{'ner': 1545.101167045995}\n",
            "{'ner': 1553.7284574486598}\n",
            "{'ner': 1555.2248702534669}\n",
            "{'ner': 1557.1470596813172}\n",
            "{'ner': 1561.8994110245426}\n",
            "{'ner': 1581.3918310772845}\n",
            "{'ner': 1597.214061750382}\n",
            "{'ner': 1612.843558475393}\n",
            "{'ner': 1620.4753995540898}\n",
            "{'ner': 1627.7226895700878}\n",
            "{'ner': 1635.8452002624754}\n",
            "{'ner': 1676.9784933446078}\n",
            "{'ner': 1680.9642057985561}\n",
            "{'ner': 1688.122942495841}\n",
            "{'ner': 1714.2784877800632}\n",
            "{'ner': 1802.1719859292107}\n",
            "{'ner': 1815.6494314366482}\n",
            "Statring iteration 5\n",
            "{'ner': 29.663897107533653}\n",
            "{'ner': 42.08870908768722}\n",
            "{'ner': 58.326131921655545}\n",
            "{'ner': 59.25165123140831}\n",
            "{'ner': 64.10911654673646}\n",
            "{'ner': 68.47835298850126}\n",
            "{'ner': 71.34982872185812}\n",
            "{'ner': 83.57849104749712}\n",
            "{'ner': 90.88098350788468}\n",
            "{'ner': 97.27180157660649}\n",
            "{'ner': 103.55149137298955}\n",
            "{'ner': 105.85655236630299}\n",
            "{'ner': 133.12548055690846}\n",
            "{'ner': 139.08838984238793}\n",
            "{'ner': 150.34920435230447}\n",
            "{'ner': 252.00335674842103}\n",
            "{'ner': 266.7190733434241}\n",
            "{'ner': 278.3170154784217}\n",
            "{'ner': 286.792647189035}\n",
            "{'ner': 292.66691597998243}\n",
            "{'ner': 309.1061668787714}\n",
            "{'ner': 312.72065707859025}\n",
            "{'ner': 316.3928863481912}\n",
            "{'ner': 330.08289874608334}\n",
            "{'ner': 331.9171699156671}\n",
            "{'ner': 384.65578907478204}\n",
            "{'ner': 391.264149743382}\n",
            "{'ner': 402.59874909336617}\n",
            "{'ner': 410.0128850142633}\n",
            "{'ner': 414.79730185756057}\n",
            "{'ner': 420.773089611336}\n",
            "{'ner': 439.72216634927736}\n",
            "{'ner': 455.1314158386735}\n",
            "{'ner': 473.44256205154664}\n",
            "{'ner': 480.6853127216002}\n",
            "{'ner': 490.39574316134957}\n",
            "{'ner': 510.6776529212293}\n",
            "{'ner': 512.5296259596153}\n",
            "{'ner': 522.7233034219591}\n",
            "{'ner': 523.4450632998465}\n",
            "{'ner': 536.9194867499521}\n",
            "{'ner': 546.6132829000959}\n",
            "{'ner': 559.5519994573071}\n",
            "{'ner': 565.0956532911425}\n",
            "{'ner': 577.9920315106235}\n",
            "{'ner': 604.8513891418246}\n",
            "{'ner': 607.2879915830225}\n",
            "{'ner': 611.4925134522431}\n",
            "{'ner': 617.2624154594877}\n",
            "{'ner': 634.3152496122049}\n",
            "{'ner': 638.0172299832732}\n",
            "{'ner': 641.8799931280394}\n",
            "{'ner': 657.898965752022}\n",
            "{'ner': 665.0266201646652}\n",
            "{'ner': 673.3942560797951}\n",
            "{'ner': 677.2644040588867}\n",
            "{'ner': 681.7431287668026}\n",
            "{'ner': 702.563604991038}\n",
            "{'ner': 703.8299371381545}\n",
            "{'ner': 705.773317769476}\n",
            "{'ner': 720.1350696251801}\n",
            "{'ner': 743.4208108341621}\n",
            "{'ner': 754.300359545793}\n",
            "{'ner': 760.1473949081578}\n",
            "{'ner': 767.0408842522959}\n",
            "{'ner': 781.7612256674994}\n",
            "{'ner': 792.9944300485183}\n",
            "{'ner': 802.1938849263383}\n",
            "{'ner': 807.464883616235}\n",
            "{'ner': 812.8952654361458}\n",
            "{'ner': 857.7960599215434}\n",
            "{'ner': 869.7837341374113}\n",
            "{'ner': 906.7329925785621}\n",
            "{'ner': 938.9598989734193}\n",
            "{'ner': 941.531739717602}\n",
            "{'ner': 945.6700577956548}\n",
            "{'ner': 961.0970663904061}\n",
            "{'ner': 962.6955518821844}\n",
            "{'ner': 991.9076467370708}\n",
            "{'ner': 1002.229748190908}\n",
            "{'ner': 1010.5890621054713}\n",
            "{'ner': 1014.370674406483}\n",
            "{'ner': 1021.5304531850564}\n",
            "{'ner': 1036.3994806547591}\n",
            "{'ner': 1060.7347670200118}\n",
            "{'ner': 1071.9117554542822}\n",
            "{'ner': 1097.3897926492598}\n",
            "{'ner': 1119.690144204346}\n",
            "{'ner': 1125.5287395806258}\n",
            "{'ner': 1134.4108656578371}\n",
            "{'ner': 1140.4231311930748}\n",
            "{'ner': 1163.2320150502396}\n",
            "{'ner': 1163.2584113814537}\n",
            "{'ner': 1185.8767440243967}\n",
            "{'ner': 1189.7236679709376}\n",
            "{'ner': 1193.788776450378}\n",
            "{'ner': 1202.0172732098765}\n",
            "{'ner': 1205.5752465229932}\n",
            "{'ner': 1213.3747881464196}\n",
            "{'ner': 1220.3856769415645}\n",
            "{'ner': 1230.69433240835}\n",
            "{'ner': 1239.8456610120732}\n",
            "{'ner': 1249.8386708199869}\n",
            "{'ner': 1251.607689044539}\n",
            "{'ner': 1280.7256933857714}\n",
            "{'ner': 1289.127166546652}\n",
            "{'ner': 1309.7460559018775}\n",
            "{'ner': 1314.063126706033}\n",
            "{'ner': 1324.2260930101124}\n",
            "{'ner': 1336.9766207886294}\n",
            "{'ner': 1340.7423138775362}\n",
            "{'ner': 1341.533891362189}\n",
            "{'ner': 1345.4640112130976}\n",
            "{'ner': 1352.1539076471395}\n",
            "{'ner': 1352.3285691943884}\n",
            "{'ner': 1360.4230980292937}\n",
            "{'ner': 1374.0946130417424}\n",
            "{'ner': 1374.4870419325123}\n",
            "{'ner': 1392.701785168596}\n",
            "{'ner': 1405.9038339103977}\n",
            "{'ner': 1406.606420054261}\n",
            "{'ner': 1418.5826096736714}\n",
            "{'ner': 1419.1450946431137}\n",
            "{'ner': 1446.3496149074554}\n",
            "{'ner': 1454.3828005261842}\n",
            "{'ner': 1467.903811999414}\n",
            "{'ner': 1475.369982607669}\n",
            "{'ner': 1477.92763851172}\n",
            "{'ner': 1505.0108306843056}\n",
            "{'ner': 1516.6174027944905}\n",
            "{'ner': 1523.209553690462}\n",
            "{'ner': 1529.8797156506907}\n",
            "{'ner': 1544.6995299851703}\n",
            "{'ner': 1555.4717305895874}\n",
            "{'ner': 1564.831422490151}\n",
            "{'ner': 1570.5672074270901}\n",
            "{'ner': 1584.3185704566554}\n",
            "{'ner': 1588.9895745897147}\n",
            "Statring iteration 6\n",
            "{'ner': 33.58769702329049}\n",
            "{'ner': 52.06482656651733}\n",
            "{'ner': 57.34410031494059}\n",
            "{'ner': 72.21605694364808}\n",
            "{'ner': 83.63096051102161}\n",
            "{'ner': 99.44759073391674}\n",
            "{'ner': 174.99573472097586}\n",
            "{'ner': 180.34071332220105}\n",
            "{'ner': 190.5640407344196}\n",
            "{'ner': 209.71603163847763}\n",
            "{'ner': 210.96175242411425}\n",
            "{'ner': 226.2561580787339}\n",
            "{'ner': 237.9664085948777}\n",
            "{'ner': 244.92105542950588}\n",
            "{'ner': 246.727563531361}\n",
            "{'ner': 260.05213426501166}\n",
            "{'ner': 271.4745928513956}\n",
            "{'ner': 283.79023010359515}\n",
            "{'ner': 292.3945589057857}\n",
            "{'ner': 301.35216094822846}\n",
            "{'ner': 312.5678343462231}\n",
            "{'ner': 319.8629435754451}\n",
            "{'ner': 335.0460900887929}\n",
            "{'ner': 335.6911723396626}\n",
            "{'ner': 349.7613459683909}\n",
            "{'ner': 358.25626943510645}\n",
            "{'ner': 359.2509747167678}\n",
            "{'ner': 361.3719252960671}\n",
            "{'ner': 365.14280656084367}\n",
            "{'ner': 369.2366275213774}\n",
            "{'ner': 378.5562222665198}\n",
            "{'ner': 381.3631066700058}\n",
            "{'ner': 391.2169499112534}\n",
            "{'ner': 396.19880877730213}\n",
            "{'ner': 400.9649808761248}\n",
            "{'ner': 402.77256227368287}\n",
            "{'ner': 402.98934138438943}\n",
            "{'ner': 411.0075540393816}\n",
            "{'ner': 420.5232147439118}\n",
            "{'ner': 429.5713905971887}\n",
            "{'ner': 431.5556938827908}\n",
            "{'ner': 436.6802252436484}\n",
            "{'ner': 441.679384571187}\n",
            "{'ner': 445.4083441032583}\n",
            "{'ner': 445.5509323143904}\n",
            "{'ner': 447.35404902561544}\n",
            "{'ner': 454.63881879918694}\n",
            "{'ner': 486.9680052650374}\n",
            "{'ner': 502.96343255425336}\n",
            "{'ner': 510.2545586037906}\n",
            "{'ner': 673.7449857450022}\n",
            "{'ner': 680.9879240072992}\n",
            "{'ner': 723.0667534448487}\n",
            "{'ner': 737.7244063105268}\n",
            "{'ner': 752.9914074401615}\n",
            "{'ner': 761.7483348927495}\n",
            "{'ner': 763.5905780136899}\n",
            "{'ner': 765.9997626041695}\n",
            "{'ner': 781.4836077191139}\n",
            "{'ner': 782.0366222348874}\n",
            "{'ner': 791.2822224095397}\n",
            "{'ner': 814.0446048960654}\n",
            "{'ner': 835.2981194696215}\n",
            "{'ner': 835.7705263077396}\n",
            "{'ner': 855.7534386608586}\n",
            "{'ner': 860.269395929802}\n",
            "{'ner': 874.8127260437038}\n",
            "{'ner': 884.0629323014225}\n",
            "{'ner': 901.2715688388444}\n",
            "{'ner': 901.8107288581516}\n",
            "{'ner': 909.4230163685722}\n",
            "{'ner': 922.5137857876264}\n",
            "{'ner': 936.7626143337814}\n",
            "{'ner': 949.3633524484623}\n",
            "{'ner': 961.8527304492302}\n",
            "{'ner': 964.9183767798916}\n",
            "{'ner': 968.0434144029807}\n",
            "{'ner': 976.7085296223454}\n",
            "{'ner': 985.3567404100619}\n",
            "{'ner': 997.3182376427151}\n",
            "{'ner': 1001.9027991799144}\n",
            "{'ner': 1003.5078895724464}\n",
            "{'ner': 1032.289240707728}\n",
            "{'ner': 1039.9447592633217}\n",
            "{'ner': 1055.3198788495881}\n",
            "{'ner': 1055.5385161994768}\n",
            "{'ner': 1065.6955173972776}\n",
            "{'ner': 1067.125415242252}\n",
            "{'ner': 1069.4114500560304}\n",
            "{'ner': 1072.5141570314543}\n",
            "{'ner': 1075.012694011773}\n",
            "{'ner': 1111.117028612089}\n",
            "{'ner': 1132.2341449734329}\n",
            "{'ner': 1141.3061677387147}\n",
            "{'ner': 1145.7802415931753}\n",
            "{'ner': 1161.0944917246525}\n",
            "{'ner': 1262.059932617244}\n",
            "{'ner': 1262.5984844356965}\n",
            "{'ner': 1282.2333108447501}\n",
            "{'ner': 1286.8960854069724}\n",
            "{'ner': 1299.0856609422851}\n",
            "{'ner': 1312.11620044093}\n",
            "{'ner': 1315.5018933482522}\n",
            "{'ner': 1316.0718831439235}\n",
            "{'ner': 1342.8086799911737}\n",
            "{'ner': 1352.650839846186}\n",
            "{'ner': 1369.513611597697}\n",
            "{'ner': 1380.826025182011}\n",
            "{'ner': 1389.5706503093295}\n",
            "{'ner': 1392.3323161202882}\n",
            "{'ner': 1401.0039938371938}\n",
            "{'ner': 1424.6416031839144}\n",
            "{'ner': 1429.1042106331902}\n",
            "{'ner': 1432.3206403830095}\n",
            "{'ner': 1436.7855462253551}\n",
            "{'ner': 1438.6512160356094}\n",
            "{'ner': 1482.2763247055511}\n",
            "{'ner': 1483.521635342405}\n",
            "{'ner': 1503.2605841968996}\n",
            "{'ner': 1516.4098153366654}\n",
            "{'ner': 1522.8924863731545}\n",
            "{'ner': 1537.7007655737468}\n",
            "{'ner': 1556.4188651894021}\n",
            "{'ner': 1574.3706244978641}\n",
            "{'ner': 1576.902048523759}\n",
            "{'ner': 1577.1810644078978}\n",
            "{'ner': 1580.699538874799}\n",
            "{'ner': 1586.8783324691965}\n",
            "{'ner': 1600.0323849750735}\n",
            "{'ner': 1600.0444719578709}\n",
            "{'ner': 1616.2047386819775}\n",
            "{'ner': 1622.2553449554332}\n",
            "{'ner': 1638.0955841854834}\n",
            "{'ner': 1640.6272013627092}\n",
            "{'ner': 1643.5297378894365}\n",
            "{'ner': 1662.7699252307934}\n",
            "{'ner': 1682.1424362395578}\n",
            "{'ner': 1686.3530150306506}\n",
            "Statring iteration 7\n",
            "{'ner': 0.8784740266633538}\n",
            "{'ner': 5.6874450750360515}\n",
            "{'ner': 22.508637101626285}\n",
            "{'ner': 22.60335589423059}\n",
            "{'ner': 29.820406250255232}\n",
            "{'ner': 35.094473992186074}\n",
            "{'ner': 42.90615804072734}\n",
            "{'ner': 45.647221065471975}\n",
            "{'ner': 51.61304195955993}\n",
            "{'ner': 63.75041786018951}\n",
            "{'ner': 75.52409571850707}\n",
            "{'ner': 84.09471457926773}\n",
            "{'ner': 96.78711541544777}\n",
            "{'ner': 119.45088680532274}\n",
            "{'ner': 123.29238088900254}\n",
            "{'ner': 125.78959861062712}\n",
            "{'ner': 133.31037866348981}\n",
            "{'ner': 142.23028588218406}\n",
            "{'ner': 153.61856665064516}\n",
            "{'ner': 199.29999380839405}\n",
            "{'ner': 219.09654933044058}\n",
            "{'ner': 232.61268896076874}\n",
            "{'ner': 237.0711963130398}\n",
            "{'ner': 243.8101711518568}\n",
            "{'ner': 245.64108459433942}\n",
            "{'ner': 252.2935681586108}\n",
            "{'ner': 259.14215301283565}\n",
            "{'ner': 262.99264281470647}\n",
            "{'ner': 270.4830906594686}\n",
            "{'ner': 288.0086847028368}\n",
            "{'ner': 294.4359172753149}\n",
            "{'ner': 301.235752238466}\n",
            "{'ner': 302.7428306578956}\n",
            "{'ner': 307.43017781318736}\n",
            "{'ner': 324.01746808218286}\n",
            "{'ner': 331.24667525237584}\n",
            "{'ner': 345.9907368683252}\n",
            "{'ner': 349.2874618511803}\n",
            "{'ner': 356.35492886295407}\n",
            "{'ner': 378.56655663999675}\n",
            "{'ner': 392.9007455771719}\n",
            "{'ner': 396.63387279311473}\n",
            "{'ner': 407.31391279242547}\n",
            "{'ner': 413.1522270612549}\n",
            "{'ner': 416.6230610483501}\n",
            "{'ner': 420.3658049847439}\n",
            "{'ner': 423.0842137415928}\n",
            "{'ner': 423.8403457783584}\n",
            "{'ner': 432.5861267452804}\n",
            "{'ner': 440.03108780660705}\n",
            "{'ner': 458.15290967683404}\n",
            "{'ner': 475.9610485483806}\n",
            "{'ner': 483.5482968421638}\n",
            "{'ner': 485.3134596544499}\n",
            "{'ner': 486.39136937322553}\n",
            "{'ner': 506.0427133367555}\n",
            "{'ner': 513.3054129137679}\n",
            "{'ner': 521.531067854342}\n",
            "{'ner': 527.5271512480315}\n",
            "{'ner': 530.5642195099474}\n",
            "{'ner': 703.9821486462699}\n",
            "{'ner': 709.1116681282988}\n",
            "{'ner': 719.5539161715703}\n",
            "{'ner': 734.6883260057518}\n",
            "{'ner': 747.6450476476205}\n",
            "{'ner': 754.0559520244119}\n",
            "{'ner': 756.5601297341386}\n",
            "{'ner': 885.2766231390747}\n",
            "{'ner': 892.0728387997493}\n",
            "{'ner': 894.8599878795341}\n",
            "{'ner': 913.8655975095298}\n",
            "{'ner': 914.0339159841029}\n",
            "{'ner': 939.259974688451}\n",
            "{'ner': 946.8144934525483}\n",
            "{'ner': 958.8396267114589}\n",
            "{'ner': 980.9905019394611}\n",
            "{'ner': 984.8624822629879}\n",
            "{'ner': 989.058302652031}\n",
            "{'ner': 990.0460524416625}\n",
            "{'ner': 992.708746276841}\n",
            "{'ner': 999.8905422778063}\n",
            "{'ner': 1004.0965467202583}\n",
            "{'ner': 1017.7827316155441}\n",
            "{'ner': 1024.960334159597}\n",
            "{'ner': 1036.6083696249493}\n",
            "{'ner': 1039.1513574088292}\n",
            "{'ner': 1043.0236433980758}\n",
            "{'ner': 1059.3589646956177}\n",
            "{'ner': 1063.4929626662408}\n",
            "{'ner': 1082.457934379108}\n",
            "{'ner': 1086.2336294253128}\n",
            "{'ner': 1097.843139369738}\n",
            "{'ner': 1126.0371483029319}\n",
            "{'ner': 1135.340122254575}\n",
            "{'ner': 1150.0158478830028}\n",
            "{'ner': 1154.0091419594692}\n",
            "{'ner': 1183.7685943803958}\n",
            "{'ner': 1209.7616322388772}\n",
            "{'ner': 1222.4857907235769}\n",
            "{'ner': 1229.4386001320934}\n",
            "{'ner': 1238.0098458139303}\n",
            "{'ner': 1241.3643303851436}\n",
            "{'ner': 1246.1422682777134}\n",
            "{'ner': 1257.9322911276356}\n",
            "{'ner': 1280.8759660405926}\n",
            "{'ner': 1287.3776680090082}\n",
            "{'ner': 1289.4229803630385}\n",
            "{'ner': 1294.3905365890362}\n",
            "{'ner': 1301.1700151546981}\n",
            "{'ner': 1312.4552131327148}\n",
            "{'ner': 1316.1630862589354}\n",
            "{'ner': 1342.688462161045}\n",
            "{'ner': 1355.1778845805627}\n",
            "{'ner': 1361.8295648096055}\n",
            "{'ner': 1364.1493813604675}\n",
            "{'ner': 1379.7450890408127}\n",
            "{'ner': 1383.0403930243492}\n",
            "{'ner': 1384.7442560070945}\n",
            "{'ner': 1402.8018428988325}\n",
            "{'ner': 1404.510877600949}\n",
            "{'ner': 1404.5361918959386}\n",
            "{'ner': 1406.4861053877985}\n",
            "{'ner': 1408.7992463858125}\n",
            "{'ner': 1415.3139520531738}\n",
            "{'ner': 1427.52468101086}\n",
            "{'ner': 1444.340688543043}\n",
            "{'ner': 1460.090675694497}\n",
            "{'ner': 1462.1736764605655}\n",
            "{'ner': 1468.4073544807875}\n",
            "{'ner': 1473.5138047966122}\n",
            "{'ner': 1476.8586876338084}\n",
            "{'ner': 1494.915367706322}\n",
            "{'ner': 1507.3793103776454}\n",
            "{'ner': 1513.75797062792}\n",
            "{'ner': 1539.2793035939176}\n",
            "{'ner': 1599.0045057171978}\n",
            "{'ner': 1599.2284350787181}\n",
            "Statring iteration 8\n",
            "{'ner': 6.34245102869682}\n",
            "{'ner': 7.174614177205044}\n",
            "{'ner': 7.267572261488947}\n",
            "{'ner': 24.114144460880187}\n",
            "{'ner': 27.761948983390628}\n",
            "{'ner': 41.49840102105184}\n",
            "{'ner': 44.00750106153078}\n",
            "{'ner': 73.59879423073156}\n",
            "{'ner': 84.5277934164942}\n",
            "{'ner': 84.53523293047127}\n",
            "{'ner': 94.59086276908185}\n",
            "{'ner': 94.73790494906216}\n",
            "{'ner': 99.66942580601679}\n",
            "{'ner': 107.13813743303095}\n",
            "{'ner': 110.75071077215794}\n",
            "{'ner': 113.40584312092992}\n",
            "{'ner': 132.90442165203626}\n",
            "{'ner': 139.70135873276072}\n",
            "{'ner': 153.76649309351887}\n",
            "{'ner': 159.09624253156284}\n",
            "{'ner': 162.24641147578117}\n",
            "{'ner': 166.61252375395816}\n",
            "{'ner': 202.49774104117614}\n",
            "{'ner': 249.0765015954222}\n",
            "{'ner': 258.40720516849854}\n",
            "{'ner': 262.31926064978126}\n",
            "{'ner': 262.77058764201206}\n",
            "{'ner': 265.47041810760084}\n",
            "{'ner': 267.3218336013356}\n",
            "{'ner': 276.72323594584816}\n",
            "{'ner': 285.76918444969203}\n",
            "{'ner': 312.5233092901763}\n",
            "{'ner': 315.03919505987847}\n",
            "{'ner': 315.0417912800815}\n",
            "{'ner': 321.73872145089166}\n",
            "{'ner': 341.5143630145749}\n",
            "{'ner': 382.12349068030494}\n",
            "{'ner': 392.211286445271}\n",
            "{'ner': 400.88785491384556}\n",
            "{'ner': 401.6348569843521}\n",
            "{'ner': 401.7977478510719}\n",
            "{'ner': 407.02934591398565}\n",
            "{'ner': 419.02106500086245}\n",
            "{'ner': 422.35253385563624}\n",
            "{'ner': 435.06853433379536}\n",
            "{'ner': 460.9994683894421}\n",
            "{'ner': 482.7922385284872}\n",
            "{'ner': 496.27561490523277}\n",
            "{'ner': 507.0824565107219}\n",
            "{'ner': 508.2971178821735}\n",
            "{'ner': 512.3941982535506}\n",
            "{'ner': 513.0362828988106}\n",
            "{'ner': 519.2414022219139}\n",
            "{'ner': 527.6755351876827}\n",
            "{'ner': 548.3334123928186}\n",
            "{'ner': 548.3446971775669}\n",
            "{'ner': 551.7798461202681}\n",
            "{'ner': 555.4827259649767}\n",
            "{'ner': 567.411991545626}\n",
            "{'ner': 570.0234165020546}\n",
            "{'ner': 573.5654236369232}\n",
            "{'ner': 574.9033022972591}\n",
            "{'ner': 576.7884083443025}\n",
            "{'ner': 580.3796541746707}\n",
            "{'ner': 580.4203453620487}\n",
            "{'ner': 588.8780507009833}\n",
            "{'ner': 603.1434133683629}\n",
            "{'ner': 611.1923822432486}\n",
            "{'ner': 620.0401356723723}\n",
            "{'ner': 624.0744902818395}\n",
            "{'ner': 636.0992848364892}\n",
            "{'ner': 644.2095487477179}\n",
            "{'ner': 652.7530321695234}\n",
            "{'ner': 658.8259179759827}\n",
            "{'ner': 683.4009959793115}\n",
            "{'ner': 694.4696624496369}\n",
            "{'ner': 700.1543209590716}\n",
            "{'ner': 700.1672630733932}\n",
            "{'ner': 711.1297373082265}\n",
            "{'ner': 714.4614713870947}\n",
            "{'ner': 728.1437526428649}\n",
            "{'ner': 734.0461798895732}\n",
            "{'ner': 742.0826370939309}\n",
            "{'ner': 747.2809372269006}\n",
            "{'ner': 786.9905755550176}\n",
            "{'ner': 803.7622579999288}\n",
            "{'ner': 807.8972007428646}\n",
            "{'ner': 835.4487441774008}\n",
            "{'ner': 846.0861077477031}\n",
            "{'ner': 849.5896932128845}\n",
            "{'ner': 861.1825365485229}\n",
            "{'ner': 862.7546247522818}\n",
            "{'ner': 865.6104563277241}\n",
            "{'ner': 866.6108983578331}\n",
            "{'ner': 868.098907343593}\n",
            "{'ner': 873.244807285623}\n",
            "{'ner': 883.3281179366547}\n",
            "{'ner': 886.4099039388084}\n",
            "{'ner': 901.8271943668111}\n",
            "{'ner': 912.2320858338053}\n",
            "{'ner': 914.8850958163418}\n",
            "{'ner': 936.519066112332}\n",
            "{'ner': 940.184262389313}\n",
            "{'ner': 941.4884585111944}\n",
            "{'ner': 946.1471907185127}\n",
            "{'ner': 972.4803193865315}\n",
            "{'ner': 974.5257750359292}\n",
            "{'ner': 974.5723598980089}\n",
            "{'ner': 976.8952632698208}\n",
            "{'ner': 982.9183732510626}\n",
            "{'ner': 989.7500508004194}\n",
            "{'ner': 994.2022430494217}\n",
            "{'ner': 1007.7947663932459}\n",
            "{'ner': 1021.9808849281357}\n",
            "{'ner': 1030.9211250122871}\n",
            "{'ner': 1034.761968504416}\n",
            "{'ner': 1049.8338812771146}\n",
            "{'ner': 1065.0741102520433}\n",
            "{'ner': 1069.147817274417}\n",
            "{'ner': 1078.5041459187219}\n",
            "{'ner': 1105.038450519044}\n",
            "{'ner': 1111.0625170975954}\n",
            "{'ner': 1125.2788122067655}\n",
            "{'ner': 1135.6186367847515}\n",
            "{'ner': 1142.0897022550332}\n",
            "{'ner': 1146.2127990047888}\n",
            "{'ner': 1166.3507217289127}\n",
            "{'ner': 1183.5458261691322}\n",
            "{'ner': 1194.7784850197104}\n",
            "{'ner': 1199.3843096462997}\n",
            "{'ner': 1203.8751245863562}\n",
            "{'ner': 1213.1717885656049}\n",
            "{'ner': 1219.7713272365627}\n",
            "{'ner': 1228.3611630809874}\n",
            "{'ner': 1240.8165574889072}\n",
            "{'ner': 1263.9078573567513}\n",
            "{'ner': 1268.9275502121834}\n",
            "Statring iteration 9\n",
            "{'ner': 3.914554098139405}\n",
            "{'ner': 21.89329087252854}\n",
            "{'ner': 27.049480718800883}\n",
            "{'ner': 29.494153730079773}\n",
            "{'ner': 33.60696735282526}\n",
            "{'ner': 36.71147091781816}\n",
            "{'ner': 37.2198135246073}\n",
            "{'ner': 49.864840127353034}\n",
            "{'ner': 58.69071115651142}\n",
            "{'ner': 58.73404500249971}\n",
            "{'ner': 76.33917129800335}\n",
            "{'ner': 84.25322492175509}\n",
            "{'ner': 87.07891880565273}\n",
            "{'ner': 91.23296426114149}\n",
            "{'ner': 99.7625690073719}\n",
            "{'ner': 110.50022453469802}\n",
            "{'ner': 115.6739159925379}\n",
            "{'ner': 124.14262380514643}\n",
            "{'ner': 131.87820962672745}\n",
            "{'ner': 136.46080479046356}\n",
            "{'ner': 136.49191962721466}\n",
            "{'ner': 139.78493902984738}\n",
            "{'ner': 140.09208186263572}\n",
            "{'ner': 142.91529991150335}\n",
            "{'ner': 154.37618327316503}\n",
            "{'ner': 180.91380509019075}\n",
            "{'ner': 184.83154881871283}\n",
            "{'ner': 206.4640431979621}\n",
            "{'ner': 210.436566407509}\n",
            "{'ner': 212.55126504462842}\n",
            "{'ner': 218.20670434210484}\n",
            "{'ner': 222.2239713371684}\n",
            "{'ner': 231.2257983964843}\n",
            "{'ner': 244.4563403890687}\n",
            "{'ner': 255.52456657989617}\n",
            "{'ner': 256.14489701692867}\n",
            "{'ner': 266.26445717039417}\n",
            "{'ner': 285.10904084290024}\n",
            "{'ner': 300.71746872570907}\n",
            "{'ner': 311.0151976910034}\n",
            "{'ner': 313.07659223691894}\n",
            "{'ner': 320.627068281037}\n",
            "{'ner': 323.36810941775605}\n",
            "{'ner': 354.5989268386945}\n",
            "{'ner': 370.29936008639737}\n",
            "{'ner': 377.15480319217363}\n",
            "{'ner': 378.6470846625832}\n",
            "{'ner': 381.11703123303596}\n",
            "{'ner': 392.3559326097034}\n",
            "{'ner': 394.1905957744161}\n",
            "{'ner': 405.21012336269587}\n",
            "{'ner': 422.22113418898016}\n",
            "{'ner': 432.6879555946135}\n",
            "{'ner': 432.95698273771177}\n",
            "{'ner': 434.92902780295503}\n",
            "{'ner': 442.71879696838135}\n",
            "{'ner': 448.68142077100015}\n",
            "{'ner': 449.6051622213639}\n",
            "{'ner': 457.6240219178617}\n",
            "{'ner': 469.34538203171235}\n",
            "{'ner': 475.6094994035946}\n",
            "{'ner': 477.88455800693544}\n",
            "{'ner': 483.0688329378254}\n",
            "{'ner': 488.67269428577146}\n",
            "{'ner': 503.02025092774113}\n",
            "{'ner': 508.93076345916677}\n",
            "{'ner': 511.15957624346925}\n",
            "{'ner': 512.6786003189287}\n",
            "{'ner': 536.2275438641408}\n",
            "{'ner': 543.9882698771039}\n",
            "{'ner': 552.5420031312145}\n",
            "{'ner': 554.8855510981172}\n",
            "{'ner': 569.7045165066016}\n",
            "{'ner': 574.3118023359685}\n",
            "{'ner': 584.3559304241962}\n",
            "{'ner': 593.6789786158306}\n",
            "{'ner': 607.6479648655281}\n",
            "{'ner': 614.9707442639702}\n",
            "{'ner': 620.6593119213678}\n",
            "{'ner': 626.981285308059}\n",
            "{'ner': 630.9555131769425}\n",
            "{'ner': 631.0599864295637}\n",
            "{'ner': 648.767882963105}\n",
            "{'ner': 650.52096926874}\n",
            "{'ner': 651.0667376662707}\n",
            "{'ner': 665.9152220731302}\n",
            "{'ner': 671.4660507962712}\n",
            "{'ner': 679.7252458832653}\n",
            "{'ner': 690.4658992612709}\n",
            "{'ner': 692.0973298165336}\n",
            "{'ner': 697.5020811001513}\n",
            "{'ner': 697.7215700428505}\n",
            "{'ner': 706.579622151503}\n",
            "{'ner': 707.3646382012133}\n",
            "{'ner': 710.6604485730763}\n",
            "{'ner': 717.2211539440701}\n",
            "{'ner': 722.037874013556}\n",
            "{'ner': 739.1180744426377}\n",
            "{'ner': 753.0249529161913}\n",
            "{'ner': 760.1998937795813}\n",
            "{'ner': 761.3343261489933}\n",
            "{'ner': 767.4972055150706}\n",
            "{'ner': 774.8722117371425}\n",
            "{'ner': 775.5727329591837}\n",
            "{'ner': 792.1876592972642}\n",
            "{'ner': 801.1146967151551}\n",
            "{'ner': 804.2492885280705}\n",
            "{'ner': 859.1544673025381}\n",
            "{'ner': 860.8732864752071}\n",
            "{'ner': 862.7509462258745}\n",
            "{'ner': 873.4073254235027}\n",
            "{'ner': 898.9811767292773}\n",
            "{'ner': 905.9109747184124}\n",
            "{'ner': 914.4054387667655}\n",
            "{'ner': 953.7637405032912}\n",
            "{'ner': 958.8951588444672}\n",
            "{'ner': 961.5832138760741}\n",
            "{'ner': 967.455998784234}\n",
            "{'ner': 970.1078968764725}\n",
            "{'ner': 981.8489952282697}\n",
            "{'ner': 982.191085951407}\n",
            "{'ner': 982.4043886479558}\n",
            "{'ner': 989.405862815009}\n",
            "{'ner': 989.4183216642348}\n",
            "{'ner': 989.5882153748344}\n",
            "{'ner': 999.8728603273148}\n",
            "{'ner': 1004.2310721184958}\n",
            "{'ner': 1015.4852407563095}\n",
            "{'ner': 1019.3968722366253}\n",
            "{'ner': 1062.4807464732123}\n",
            "{'ner': 1084.0712510049827}\n",
            "{'ner': 1092.6526967233199}\n",
            "{'ner': 1104.005632017529}\n",
            "{'ner': 1104.4893171606668}\n",
            "{'ner': 1117.8602275347914}\n",
            "{'ner': 1131.8020655235084}\n",
            "{'ner': 1152.7423776147396}\n",
            "{'ner': 1155.3411102235273}\n"
          ]
        }
      ]
    },
    {
      "cell_type": "code",
      "source": [
        "nlp.to_disk('nlp_model')"
      ],
      "metadata": {
        "id": "1gc7iRoAQZvw"
      },
      "execution_count": 37,
      "outputs": []
    },
    {
      "cell_type": "code",
      "source": [
        "nlp_model = spacy.load('nlp_model')\n"
      ],
      "metadata": {
        "id": "Xy6Ml-EAKn6p"
      },
      "execution_count": 38,
      "outputs": []
    },
    {
      "cell_type": "code",
      "source": [
        "train_data[0][0]"
      ],
      "metadata": {
        "colab": {
          "base_uri": "https://localhost:8080/",
          "height": 161
        },
        "id": "XMNq2QGjJ3pp",
        "outputId": "5cbd92e2-f3d4-4034-af67-4c179dccf772"
      },
      "execution_count": 39,
      "outputs": [
        {
          "output_type": "execute_result",
          "data": {
            "text/plain": [
              "'Govardhana K Senior Software Engineer  Bengaluru, Karnataka, Karnataka - Email me on Indeed: indeed.com/r/Govardhana-K/ b2de315d95905b68  Total IT experience 5 Years 6 Months Cloud Lending Solutions INC 4 Month • Salesforce Developer Oracle 5 Years 2 Month • Core Java Developer Languages Core Java, Go Lang Oracle PL-SQL programming, Sales Force Developer with APEX.  Designations & Promotions  Willing to relocate: Anywhere  WORK EXPERIENCE  Senior Software Engineer  Cloud Lending Solutions -  Bangalore, Karnataka -  January 2018 to Present  Present  Senior Consultant  Oracle -  Bangalore, Karnataka -  November 2016 to December 2017  Staff Consultant  Oracle -  Bangalore, Karnataka -  January 2014 to October 2016  Associate Consultant  Oracle -  Bangalore, Karnataka -  November 2012 to December 2013  EDUCATION  B.E in Computer Science Engineering  Adithya Institute of Technology -  Tamil Nadu  September 2008 to June 2012  https://www.indeed.com/r/Govardhana-K/b2de315d95905b68?isid=rex-download&ikw=download-top&co=IN https://www.indeed.com/r/Govardhana-K/b2de315d95905b68?isid=rex-download&ikw=download-top&co=IN   SKILLS  APEX. (Less than 1 year), Data Structures (3 years), FLEXCUBE (5 years), Oracle (5 years), Algorithms (3 years)  LINKS  https://www.linkedin.com/in/govardhana-k-61024944/  ADDITIONAL INFORMATION  Technical Proficiency:  Languages: Core Java, Go Lang, Data Structures & Algorithms, Oracle PL-SQL programming, Sales Force with APEX. Tools: RADTool, Jdeveloper, NetBeans, Eclipse, SQL developer, PL/SQL Developer, WinSCP, Putty Web Technologies: JavaScript, XML, HTML, Webservice  Operating Systems: Linux, Windows Version control system SVN & Git-Hub Databases: Oracle Middleware: Web logic, OC4J Product FLEXCUBE: Oracle FLEXCUBE Versions 10.x, 11.x and 12.x  https://www.linkedin.com/in/govardhana-k-61024944/'"
            ],
            "application/vnd.google.colaboratory.intrinsic+json": {
              "type": "string"
            }
          },
          "metadata": {},
          "execution_count": 39
        }
      ]
    },
    {
      "cell_type": "code",
      "source": [
        "doc = nlp_model(train_data[0][0])\n",
        "for ent in doc.ents:\n",
        "    print(f'{ent.label_.upper():{30}}- {ent.text}')"
      ],
      "metadata": {
        "colab": {
          "base_uri": "https://localhost:8080/"
        },
        "id": "CHWfdGRQK9Ex",
        "outputId": "628bb7e0-0751-4cd7-d08a-a763bbd9dd32"
      },
      "execution_count": 40,
      "outputs": [
        {
          "output_type": "stream",
          "name": "stdout",
          "text": [
            "NAME                          - Govardhana K\n",
            "LOCATION                      - Bengaluru\n",
            "DESIGNATION                   - Associate Consultant\n",
            "DEGREE                        - B.E in Computer Science Engineering\n",
            "COLLEGE NAME                  - Adithya Institute of Technology -  Tamil Nadu  September 2008 to June 2012  https://www.indeed.com/r/Govardhana-K/b2de315d95905b68?isid=rex-download&ikw=download-top&co=IN\n",
            "SKILLS                        - APEX. (Less than 1 year), Data Structures (3 years), FLEXCUBE (5 years), Oracle (5 years), Algorithms (3 years)\n",
            "SKILLS                        - Languages: Core Java, Go Lang, Data Structures & Algorithms, Oracle PL-SQL programming, Sales Force with APEX. Tools: RADTool, Jdeveloper, NetBeans, Eclipse, SQL developer, PL/SQL Developer, WinSCP, Putty Web Technologies: JavaScript, XML, HTML, Webservice  Operating Systems: Linux, Windows Version control system SVN & Git-Hub Databases: Oracle Middleware: Web logic, OC4J Product FLEXCUBE: Oracle FLEXCUBE Versions 10.x, 11.x and 12.x  https://www.linkedin.com/in/govardhana-k-61024944/\n"
          ]
        }
      ]
    },
    {
      "cell_type": "code",
      "source": [
        "!pip install PyMuPDF"
      ],
      "metadata": {
        "colab": {
          "base_uri": "https://localhost:8080/"
        },
        "id": "5TRn4Hv9U3lY",
        "outputId": "17247997-2d6d-4cf6-b384-4157a7d00fe1"
      },
      "execution_count": 42,
      "outputs": [
        {
          "output_type": "stream",
          "name": "stdout",
          "text": [
            "Looking in indexes: https://pypi.org/simple, https://us-python.pkg.dev/colab-wheels/public/simple/\n",
            "Collecting PyMuPDF\n",
            "  Downloading PyMuPDF-1.21.1-cp39-cp39-manylinux_2_17_x86_64.manylinux2014_x86_64.whl (14.0 MB)\n",
            "\u001b[2K     \u001b[90m━━━━━━━━━━━━━━━━━━━━━━━━━━━━━━━━━━━━━━━━\u001b[0m \u001b[32m14.0/14.0 MB\u001b[0m \u001b[31m45.4 MB/s\u001b[0m eta \u001b[36m0:00:00\u001b[0m\n",
            "\u001b[?25hInstalling collected packages: PyMuPDF\n",
            "Successfully installed PyMuPDF-1.21.1\n"
          ]
        }
      ]
    },
    {
      "cell_type": "code",
      "source": [
        "import sys, fitz\n",
        "fname = '/content/Sept_2021_Wayal_Rushikesh_17EC35044_IITKGP_Final_CV.pdf'\n",
        "doc = fitz.open(fname)\n",
        "print(doc)\n",
        "text = \"\"\n",
        "for page in doc:\n",
        "    text = text + str(page.get_images)\n",
        "\n",
        "print(text)\n",
        "tx = \" \".join(text.split('\\n'))\n",
        "print(tx)"
      ],
      "metadata": {
        "colab": {
          "base_uri": "https://localhost:8080/"
        },
        "id": "sVNibpQCUcgN",
        "outputId": "fe70862b-7327-47e7-fe7d-80d1c0129264"
      },
      "execution_count": 56,
      "outputs": [
        {
          "output_type": "stream",
          "name": "stdout",
          "text": [
            "Document('/content/Sept_2021_Wayal_Rushikesh_17EC35044_IITKGP_Final_CV.pdf')\n",
            "<bound method Page.get_images of page 0 of /content/Sept_2021_Wayal_Rushikesh_17EC35044_IITKGP_Final_CV.pdf>\n",
            "<bound method Page.get_images of page 0 of /content/Sept_2021_Wayal_Rushikesh_17EC35044_IITKGP_Final_CV.pdf>\n"
          ]
        }
      ]
    },
    {
      "cell_type": "code",
      "source": [],
      "metadata": {
        "id": "wuQKDX-9ZRZO"
      },
      "execution_count": 61,
      "outputs": []
    }
  ]
}